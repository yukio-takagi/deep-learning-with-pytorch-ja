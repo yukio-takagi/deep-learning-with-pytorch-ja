{
  "nbformat": 4,
  "nbformat_minor": 0,
  "metadata": {
    "kernelspec": {
      "display_name": "Python 3",
      "language": "python",
      "name": "python3"
    },
    "language_info": {
      "codemirror_mode": {
        "name": "ipython",
        "version": 3
      },
      "file_extension": ".py",
      "mimetype": "text/x-python",
      "name": "python",
      "nbconvert_exporter": "python",
      "pygments_lexer": "ipython3",
      "version": "3.8.3-final"
    },
    "colab": {
      "name": "1_image_dog.ipynb",
      "provenance": [],
      "collapsed_sections": []
    }
  },
  "cells": [
    {
      "source": [
        "4章 さまざまなデータをPyTorchテンソルで表現する方法\n",
        "* 4.1 画像データ\n",
        "* 4.2 3次元データ\n",
        "* 4.3 表形式データ(テーブルデータ)\n",
        "* 4.4 時系列データ\n",
        "* 4.5 テキストデータ\n"
      ],
      "cell_type": "markdown",
      "metadata": {}
    },
    {
      "source": [
        "アイスブレイク\n",
        "vpnの画像"
      ],
      "cell_type": "markdown",
      "metadata": {}
    },
    {
      "source": [
        "CNN 画像(https://www.youtube.com/watch?v=vU-JfZNBdYU)"
      ],
      "cell_type": "markdown",
      "metadata": {}
    },
    {
      "cell_type": "code",
      "execution_count": 3,
      "metadata": {},
      "outputs": [
        {
          "output_type": "execute_result",
          "data": {
            "image/png": "[encoded data removed]",
            "text/plain": [
              "<IPython.core.display.Image object>"
            ]
          },
          "metadata": {},
          "execution_count": 3
        }
      ],
      "source": [
        "from IPython.display import Image\n",
        "Image(\"./png/CNN.png\")"
      ]
    },
    {
      "source": [
        "4.1 画像データ"
      ],
      "cell_type": "markdown",
      "metadata": {
        "id": "IZqa_xxAMt3-",
        "colab_type": "text"
      }
    },
    {
      "cell_type": "code",
      "metadata": {
        "id": "yFAFQOD-Mo8h",
        "colab_type": "code",
        "colab": {}
      },
      "source": [
        "import numpy as np\n",
        "import torch\n",
        "torch.set_printoptions(edgeitems=2, threshold=50)"
      ],
      "execution_count": 4,
      "outputs": [
        {
          "output_type": "error",
          "ename": "ModuleNotFoundError",
          "evalue": "No module named 'torch'",
          "traceback": [
            "\u001b[1;31m---------------------------------------------------------------------------\u001b[0m",
            "\u001b[1;31mModuleNotFoundError\u001b[0m                       Traceback (most recent call last)",
            "\u001b[1;32m<ipython-input-4-9c08b31800d6>\u001b[0m in \u001b[0;36m<module>\u001b[1;34m\u001b[0m\n\u001b[0;32m      1\u001b[0m \u001b[1;32mimport\u001b[0m \u001b[0mnumpy\u001b[0m \u001b[1;32mas\u001b[0m \u001b[0mnp\u001b[0m\u001b[1;33m\u001b[0m\u001b[1;33m\u001b[0m\u001b[0m\n\u001b[1;32m----> 2\u001b[1;33m \u001b[1;32mimport\u001b[0m \u001b[0mtorch\u001b[0m\u001b[1;33m\u001b[0m\u001b[1;33m\u001b[0m\u001b[0m\n\u001b[0m\u001b[0;32m      3\u001b[0m \u001b[0mtorch\u001b[0m\u001b[1;33m.\u001b[0m\u001b[0mset_printoptions\u001b[0m\u001b[1;33m(\u001b[0m\u001b[0medgeitems\u001b[0m\u001b[1;33m=\u001b[0m\u001b[1;36m2\u001b[0m\u001b[1;33m,\u001b[0m \u001b[0mthreshold\u001b[0m\u001b[1;33m=\u001b[0m\u001b[1;36m50\u001b[0m\u001b[1;33m)\u001b[0m\u001b[1;33m\u001b[0m\u001b[1;33m\u001b[0m\u001b[0m\n",
            "\u001b[1;31mModuleNotFoundError\u001b[0m: No module named 'torch'"
          ]
        }
      ]
    },
    {
      "source": [
        "#チャネルの絵\n",
        "Image(\"./png/Fig4_1.png\")"
      ],
      "cell_type": "code",
      "metadata": {},
      "execution_count": null,
      "outputs": []
    },
    {
      "cell_type": "code",
      "metadata": {
        "id": "40ov0x-rMo8m",
        "colab_type": "code",
        "colab": {}
      },
      "source": [
        "import imageio\n",
        "\n",
        "# GitHubのリポジトリから実行の場合\n",
        "img_arr = imageio.imread('../data/image-dog/bobby.jpg')\n",
        "\n",
        "# Google Colaboratoryの場合\n",
        "# /data/p1ch4/image-dog/bobby.jpgを選択・アップロードしてください\n",
        "# from google.colab import files\n",
        "\n",
        "# uploade = files.upload()\n",
        "# img_arr = imageio.imread('bobby.jpg')\n",
        "\n",
        "img_arr.shape  # (720, 1280, 3) 　(高さ、幅、チャネル(RGBの3つ))\n"
      ],
      "execution_count": 6,
      "outputs": [
        {
          "output_type": "execute_result",
          "data": {
            "text/plain": [
              "(720, 1280, 3)"
            ]
          },
          "metadata": {},
          "execution_count": 6
        }
      ]
    },
    {
      "source": [
        "Pytorchで画像を扱うときは、(チャネル、高さ、幅)の順になるように次元を変換する必要がある"
      ],
      "cell_type": "markdown",
      "metadata": {}
    },
    {
      "cell_type": "code",
      "metadata": {
        "id": "FK5XBL1iMo8q",
        "colab_type": "code",
        "colab": {}
      },
      "source": [
        "img = torch.from_numpy(img_arr) # numpy配列からtorchテンソルに変換\n",
        "out = img.permute(2, 0, 1)      # 次元を(チャネル、高さ、幅)に変換"
      ],
      "execution_count": 7,
      "outputs": []
    },
    {
      "cell_type": "code",
      "metadata": {
        "id": "nRCnpuK_Mo8s",
        "colab_type": "code",
        "colab": {}
      },
      "source": [
        "batch_size = 3\n",
        "batch = torch.zeros(batch_size, 3, 256, 256, dtype=torch.uint8)"
      ],
      "execution_count": 8,
      "outputs": []
    },
    {
      "cell_type": "code",
      "metadata": {
        "scrolled": true,
        "id": "CcwpkvwxMo8w",
        "colab_type": "code",
        "colab": {}
      },
      "source": [
        "import os\n",
        "\n",
        "data_dir = '../data/p1ch4/image-cats/'\n",
        "filenames = [name for name in os.listdir(data_dir)\n",
        "             if os.path.splitext(name)[-1] == '.png']\n",
        "for i, filename in enumerate(filenames):\n",
        "    img_arr = imageio.imread(os.path.join(data_dir, filename))\n",
        "    img_t = torch.from_numpy(img_arr)\n",
        "    img_t = img_t.permute(2, 0, 1)\n",
        "    img_t = img_t[:3]  # <1>\n",
        "    batch[i] = img_t\n",
        "\n",
        "# <1> \n",
        "# ここでは前から3次元を取得するように指定しています。\n",
        "# これは画像によっては透明度を表すアルファ値が4次元目にあるからです"
      ],
      "execution_count": 10,
      "outputs": []
    },
    {
      "source": [
        "正規化処理"
      ],
      "cell_type": "markdown",
      "metadata": {}
    },
    {
      "cell_type": "code",
      "metadata": {
        "id": "4QU9cJDCMo8z",
        "colab_type": "code",
        "colab": {}
      },
      "source": [
        "batch = batch.float()\n",
        "batch /= 255.0"
      ],
      "execution_count": 11,
      "outputs": []
    },
    {
      "source": [
        "平均0, 標準偏差1になるように、各値から平均を引き、それを標準偏差で割る"
      ],
      "cell_type": "markdown",
      "metadata": {}
    },
    {
      "cell_type": "code",
      "metadata": {
        "id": "pPXOJRi-Mo83",
        "colab_type": "code",
        "colab": {}
      },
      "source": [
        "n_channels = batch.shape[1]\n",
        "for c in range(n_channels):\n",
        "    mean = torch.mean(batch[:, c])\n",
        "    std = torch.std(batch[:, c])\n",
        "    batch[:, c] = (batch[:, c] - mean) / std"
      ],
      "execution_count": 12,
      "outputs": []
    },
    {
      "cell_type": "markdown",
      "metadata": {
        "id": "J94QB8ENV60c",
        "colab_type": "text"
      },
      "source": [
        "4.2 3次元データ"
      ]
    },
    {
      "cell_type": "code",
      "execution_count": null,
      "metadata": {},
      "outputs": [],
      "source": [
        "#CTの絵\n",
        "Image(\"./png/Fig4_2.png\")"
      ]
    },
    {
      "cell_type": "code",
      "execution_count": null,
      "metadata": {},
      "outputs": [],
      "source": [
        "torch.set_printoptions(edgeitems=2, threshold=50)"
      ]
    },
    {
      "cell_type": "code",
      "execution_count": null,
      "metadata": {},
      "outputs": [],
      "source": [
        "dir_path = \"../data/p1ch4/volumetric-dicom/2-LUNG 3.0  B70f-04083\""
      ]
    },
    {
      "cell_type": "code",
      "execution_count": null,
      "metadata": {},
      "outputs": [],
      "source": [
        "vol_arr = imageio.volread(dir_path, 'DICOM')\n",
        "vol_arr.shape"
      ]
    },
    {
      "cell_type": "code",
      "execution_count": null,
      "metadata": {},
      "outputs": [],
      "source": [
        "vol = torch.from_numpy(vol_arr).float()\n",
        "vol = torch.unsqueeze(vol, 0)\n",
        "\n",
        "vol.shape"
      ]
    },
    {
      "cell_type": "code",
      "execution_count": null,
      "metadata": {},
      "outputs": [],
      "source": [
        "%matplotlib inline\n",
        "import matplotlib.pyplot as plt\n",
        "\n",
        "plt.imshow(vol_arr[50])"
      ]
    },
    {
      "source": [
        "4.3 表形式データ"
      ],
      "cell_type": "markdown",
      "metadata": {}
    },
    {
      "cell_type": "code",
      "execution_count": null,
      "metadata": {},
      "outputs": [],
      "source": [
        "torch.set_printoptions(edgeitems=2, precision=2, linewidth=75)"
      ]
    },
    {
      "cell_type": "code",
      "execution_count": null,
      "metadata": {},
      "outputs": [],
      "source": [
        "import csv\n",
        "\n",
        "# GitHubのリポジトリから実行の場合\n",
        "wine_path = \"../data/p1ch4/tabular-wine/winequality-white.csv\"\n",
        "\n",
        "# Google Colaboratoryの場合\n",
        "# /data/p1ch4/tabular-wine/winequality-white.csvを選択・アップロードしてください\n",
        "# from google.colab import files\n",
        "# uploade = files.upload()\n",
        "\n",
        "#wine_path = \"winequality-white.csv\"\n",
        "wineq_numpy = np.loadtxt(wine_path, dtype=np.float32, delimiter=\";\",\n",
        "                         skiprows=1)\n",
        "wineq_numpy"
      ]
    },
    {
      "cell_type": "code",
      "execution_count": null,
      "metadata": {},
      "outputs": [],
      "source": [
        "col_list = next(csv.reader(open(wine_path), delimiter=';'))\n",
        "\n",
        "wineq_numpy.shape, col_list"
      ]
    },
    {
      "cell_type": "code",
      "execution_count": null,
      "metadata": {},
      "outputs": [],
      "source": [
        "wineq = torch.from_numpy(wineq_numpy)\n",
        "\n",
        "wineq.shape, wineq.dtype"
      ]
    },
    {
      "source": [
        "ワンホットエンコード One-hot encoding\n",
        "* スコア1を(1,0,0,0,0,0,0,0,0,0), スコア2を(0,1,0,0,0,0,0,0,0,0),スコア10を(0,0,0,0,0,0,0,0,0,10)と表現"
      ],
      "cell_type": "markdown",
      "metadata": {}
    },
    {
      "cell_type": "code",
      "execution_count": null,
      "metadata": {},
      "outputs": [],
      "source": [
        "target = wineq[:, -1] # スコアの列をtargetとして取り出す\n",
        "target, target.shape"
      ]
    },
    {
      "cell_type": "code",
      "execution_count": null,
      "metadata": {},
      "outputs": [],
      "source": [
        "target_onehot = torch.zeros(target.shape[0], 10) # 4898行 10列のゼロ行列作成\n",
        "target_onehot.shape"
      ]
    },
    {
      "source": [
        "one-hotを作りたいときは、scatterを利用する"
      ],
      "cell_type": "markdown",
      "metadata": {}
    },
    {
      "cell_type": "code",
      "execution_count": null,
      "metadata": {},
      "outputs": [],
      "source": [
        "target_onehot.scatter_(1, target.unsqueeze(1), 1.0) # one-hotする次元、変換したいテンソル(列), 値\n",
        "# _はテンソルの元を変える\n",
        "# https://lilaboc.work/archives/23948835.html\n"
      ]
    },
    {
      "cell_type": "code",
      "execution_count": null,
      "metadata": {},
      "outputs": [],
      "source": [
        "# 1行 4898列のテンソル、 4898行 1列のテンソル\n",
        "target.unsqueeze(0).shape, target.unsqueeze(1).shape"
      ]
    },
    {
      "source": [
        "wine の特徴データ"
      ],
      "cell_type": "markdown",
      "metadata": {}
    },
    {
      "cell_type": "code",
      "execution_count": null,
      "metadata": {},
      "outputs": [],
      "source": [
        "data = wineq[:, :-1] # <1>\n",
        "data, data.shape"
      ]
    },
    {
      "cell_type": "code",
      "execution_count": null,
      "metadata": {},
      "outputs": [],
      "source": [
        "data_mean = torch.mean(data, dim=0)\n",
        "data_mean,data_mean.shape"
      ]
    },
    {
      "cell_type": "code",
      "execution_count": null,
      "metadata": {},
      "outputs": [],
      "source": [
        "data_var = torch.var(data, dim=0)\n",
        "data_var, data_var.shape"
      ]
    },
    {
      "cell_type": "code",
      "execution_count": null,
      "metadata": {},
      "outputs": [],
      "source": [
        "data_normalized = (data - data_mean) / torch.sqrt(data_var)\n",
        "data_normalized"
      ]
    },
    {
      "cell_type": "code",
      "execution_count": null,
      "metadata": {},
      "outputs": [],
      "source": [
        "bad_indexes = target <= 3 # <1>\n",
        "bad_indexes.shape, bad_indexes.dtype, bad_indexes.sum()"
      ]
    },
    {
      "cell_type": "code",
      "execution_count": null,
      "metadata": {},
      "outputs": [],
      "source": [
        "bad_indexes"
      ]
    },
    {
      "cell_type": "code",
      "execution_count": null,
      "metadata": {},
      "outputs": [],
      "source": [
        "bad_data = data[bad_indexes]\n",
        "bad_data.shape"
      ]
    },
    {
      "source": [
        "3つの品質カテゴリに分類する"
      ],
      "cell_type": "markdown",
      "metadata": {}
    },
    {
      "cell_type": "code",
      "execution_count": null,
      "metadata": {},
      "outputs": [],
      "source": [
        "bad_data = data[target <= 3]\n",
        "mid_data = data[(target > 3) & (target < 7)] # <1>\n",
        "good_data = data[target >= 7]\n",
        "bad_data.shape, mid_data.shape, good_data.shape"
      ]
    },
    {
      "cell_type": "code",
      "execution_count": null,
      "metadata": {},
      "outputs": [],
      "source": [
        "# それぞれ、縦方向に平均をとる\n",
        "bad_mean = torch.mean(bad_data, dim=0)\n",
        "mid_mean = torch.mean(mid_data, dim=0)\n",
        "good_mean = torch.mean(good_data, dim=0)\n",
        "bad_mean.shape, mid_mean.shape, good_mean.shape"
      ]
    },
    {
      "cell_type": "code",
      "execution_count": null,
      "metadata": {},
      "outputs": [],
      "source": [
        "# enumerateはリスト形式の要素のインデックスと要素を同時に取得することができる\n",
        "# https://techacademy.jp/magazine/15640\n",
        "for i, args in enumerate(zip(col_list, bad_mean, mid_mean, good_mean)):\n",
        "    print('{:2} {:20} {:6.2f} {:6.2f} {:6.2f}'.format(i, *args))"
      ]
    },
    {
      "source": [
        "NO.6 total sulfur dioxide(二酸化硫黄の総量が特徴的)"
      ],
      "cell_type": "markdown",
      "metadata": {}
    },
    {
      "cell_type": "code",
      "execution_count": null,
      "metadata": {},
      "outputs": [],
      "source": [
        "# 閾値を決める 上記No.6 Midの値\n",
        "total_sulfur_threshold = 141.83\n",
        "total_sulfur_data = data[:,6] # 6列目のみ取得\n",
        "total_sulfur_data.shape"
      ]
    },
    {
      "cell_type": "code",
      "execution_count": null,
      "metadata": {},
      "outputs": [],
      "source": [
        "# lt less thans でboolian型が戻る\n",
        "# 閾値よりも小さいものを良質として予測\n",
        "predicted_indexes = torch.lt(total_sulfur_data, total_sulfur_threshold)\n",
        "predicted_indexes.shape, predicted_indexes.dtype, predicted_indexes.sum()"
      ]
    },
    {
      "cell_type": "code",
      "execution_count": null,
      "metadata": {},
      "outputs": [],
      "source": [
        "# 正解ラベルから品質が5以上のもの\n",
        "actual_indexes = target > 5\n",
        "actual_indexes.shape, actual_indexes.dtype, actual_indexes.sum()"
      ]
    },
    {
      "cell_type": "code",
      "execution_count": null,
      "metadata": {},
      "outputs": [],
      "source": [
        "# 予測が正解したものの数\n",
        "torch.sum(actual_indexes & predicted_indexes)"
      ]
    },
    {
      "cell_type": "code",
      "execution_count": null,
      "metadata": {},
      "outputs": [],
      "source": [
        "# item()とすることで正解だった数を取り出す\n",
        "n_matches = torch.sum(actual_indexes & predicted_indexes).item()\n",
        "# 閾値よりも小さいものを良質として予測した数\n",
        "n_predicted = torch.sum(predicted_indexes).item()\n",
        "# 実際に5以上のワインの数\n",
        "n_actual = torch.sum(actual_indexes).item()\n",
        "\n",
        "n_matches, n_matches / n_predicted, n_matches / n_actual"
      ]
    }
  ]
}