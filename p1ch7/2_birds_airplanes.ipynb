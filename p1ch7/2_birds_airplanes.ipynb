{
 "cells": [
  {
   "source": [
    "## 日本語版\n",
    "※ ここではGoogle Colaraboratoryでの実行を想定しています。"
   ],
   "cell_type": "markdown",
   "metadata": {}
  },
  {
   "cell_type": "code",
   "execution_count": 2,
   "metadata": {},
   "outputs": [
    {
     "output_type": "execute_result",
     "data": {
      "text/plain": [
       "<torch._C.Generator at 0x19af642f190>"
      ]
     },
     "metadata": {},
     "execution_count": 2
    }
   ],
   "source": [
    "%matplotlib inline\n",
    "from matplotlib import pyplot as plt\n",
    "import numpy as np\n",
    "import torch\n",
    "\n",
    "torch.set_printoptions(edgeitems=2)\n",
    "torch.manual_seed(123)"
   ]
  },
  {
   "cell_type": "code",
   "execution_count": 1,
   "metadata": {},
   "outputs": [],
   "source": [
    "class_names = ['airplane','automobile','bird','cat','deer',\n",
    "               'dog','frog','horse','ship','truck']"
   ]
  },
  {
   "cell_type": "code",
   "execution_count": 4,
   "metadata": {},
   "outputs": [],
   "source": [
    "from torchvision import datasets, transforms\n",
    "data_path = '../data-unversioned/p1ch7/'\n",
    "cifar10 = datasets.CIFAR10(\n",
    "    data_path, train=True, download=False,\n",
    "    transform=transforms.Compose([\n",
    "        transforms.ToTensor(),\n",
    "        transforms.Normalize((0.4915, 0.4823, 0.4468),\n",
    "                             (0.2470, 0.2435, 0.2616))\n",
    "    ]))"
   ]
  },
  {
   "cell_type": "code",
   "execution_count": 5,
   "metadata": {},
   "outputs": [],
   "source": [
    "cifar10_val = datasets.CIFAR10(\n",
    "    data_path, train=False, download=False,\n",
    "    transform=transforms.Compose([\n",
    "        transforms.ToTensor(),\n",
    "        transforms.Normalize((0.4915, 0.4823, 0.4468),\n",
    "                             (0.2470, 0.2435, 0.2616))\n",
    "    ]))"
   ]
  },
  {
   "cell_type": "code",
   "execution_count": 6,
   "metadata": {},
   "outputs": [],
   "source": [
    "label_map = {0: 0, 2: 1}\n",
    "class_names = ['airplane', 'bird']\n",
    "cifar2 = [(img, label_map[label])\n",
    "          for img, label in cifar10 \n",
    "          if label in [0, 2]]\n",
    "cifar2_val = [(img, label_map[label])\n",
    "              for img, label in cifar10_val\n",
    "              if label in [0, 2]]"
   ]
  },
  {
   "cell_type": "code",
   "execution_count": 10,
   "metadata": {},
   "outputs": [
    {
     "output_type": "execute_result",
     "data": {
      "text/plain": [
       "(dict, list, list, list)"
      ]
     },
     "metadata": {},
     "execution_count": 10
    }
   ],
   "source": [
    "type(label_map), type(class_names), type(cifar2), type(cifar2_val)"
   ]
  },
  {
   "cell_type": "code",
   "execution_count": 15,
   "metadata": {},
   "outputs": [],
   "source": [
    "import torch.nn as nn\n",
    "\n",
    "n_out = 2\n",
    "\n",
    "model = nn.Sequential(\n",
    "            nn.Linear(\n",
    "                3072,  # <1>\n",
    "                512,   # <2>\n",
    "            ),\n",
    "            nn.Tanh(),\n",
    "            nn.Linear(\n",
    "                512,   # <2>\n",
    "                n_out, # <3>\n",
    "            )\n",
    "        )"
   ]
  },
  {
   "cell_type": "code",
   "execution_count": 16,
   "metadata": {},
   "outputs": [],
   "source": [
    "def softmax(x):\n",
    "    return torch.exp(x) / torch.exp(x).sum()"
   ]
  },
  {
   "cell_type": "code",
   "execution_count": 17,
   "metadata": {},
   "outputs": [
    {
     "output_type": "execute_result",
     "data": {
      "text/plain": [
       "tensor([0.0900, 0.2447, 0.6652])"
      ]
     },
     "metadata": {},
     "execution_count": 17
    }
   ],
   "source": [
    "x = torch.tensor([1.0, 2.0, 3.0])\n",
    "\n",
    "softmax(x)"
   ]
  },
  {
   "cell_type": "code",
   "execution_count": 18,
   "metadata": {},
   "outputs": [
    {
     "output_type": "execute_result",
     "data": {
      "text/plain": [
       "tensor(1.)"
      ]
     },
     "metadata": {},
     "execution_count": 18
    }
   ],
   "source": [
    "softmax(x).sum()"
   ]
  },
  {
   "cell_type": "code",
   "execution_count": 21,
   "metadata": {},
   "outputs": [
    {
     "output_type": "execute_result",
     "data": {
      "text/plain": [
       "tensor([[0.0900, 0.2447, 0.6652],\n",
       "        [0.0900, 0.2447, 0.6652]])"
      ]
     },
     "metadata": {},
     "execution_count": 21
    }
   ],
   "source": [
    "softmax = nn.Softmax(dim=1) # dim=1は列を合計すると1になるようにsoftmaxする\n",
    "\n",
    "x = torch.tensor([[1.0, 2.0, 3.0],\n",
    "                  [1.0, 2.0, 3.0]])\n",
    "\n",
    "softmax(x)"
   ]
  },
  {
   "cell_type": "code",
   "execution_count": 22,
   "metadata": {},
   "outputs": [],
   "source": [
    "model = nn.Sequential(\n",
    "            nn.Linear(3072, 512),\n",
    "            nn.Tanh(),\n",
    "            nn.Linear(512, 2),\n",
    "            nn.Softmax(dim=1))"
   ]
  },
  {
   "cell_type": "code",
   "execution_count": 30,
   "metadata": {},
   "outputs": [
    {
     "output_type": "stream",
     "name": "stderr",
     "text": [
      "Clipping input data to the valid range for imshow with RGB data ([0..1] for floats or [0..255] for integers).\n"
     ]
    },
    {
     "output_type": "display_data",
     "data": {
      "text/plain": "<Figure size 432x288 with 1 Axes>",
      "image/svg+xml": "<?xml version=\"1.0\" encoding=\"utf-8\" standalone=\"no\"?>\r\n<!DOCTYPE svg PUBLIC \"-//W3C//DTD SVG 1.1//EN\"\r\n  \"http://www.w3.org/Graphics/SVG/1.1/DTD/svg11.dtd\">\r\n<!-- Created with matplotlib (https://matplotlib.org/) -->\r\n<svg height=\"248.919844pt\" version=\"1.1\" viewBox=\"0 0 251.565 248.919844\" width=\"251.565pt\" xmlns=\"http://www.w3.org/2000/svg\" xmlns:xlink=\"http://www.w3.org/1999/xlink\">\r\n <defs>\r\n  <style type=\"text/css\">\r\n*{stroke-linecap:butt;stroke-linejoin:round;}\r\n  </style>\r\n </defs>\r\n <g id=\"figure_1\">\r\n  <g id=\"patch_1\">\r\n   <path d=\"M 0 248.919844 \r\nL 251.565 248.919844 \r\nL 251.565 0 \r\nL 0 0 \r\nz\r\n\" style=\"fill:none;\"/>\r\n  </g>\r\n  <g id=\"axes_1\">\r\n   <g id=\"patch_2\">\r\n    <path d=\"M 26.925 225.041719 \r\nL 244.365 225.041719 \r\nL 244.365 7.601719 \r\nL 26.925 7.601719 \r\nz\r\n\" style=\"fill:#ffffff;\"/>\r\n   </g>\r\n   <g clip-path=\"url(#p92f379d54b)\">\r\n    <image height=\"218\" id=\"image8c7657796e\" transform=\"scale(1 -1)translate(0 -218)\" width=\"218\" x=\"26.925\" xlink:href=\"data:image/png;base64,\r\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\" y=\"-7.041719\"/>\r\n   </g>\r\n   <g id=\"matplotlib.axis_1\">\r\n    <g id=\"xtick_1\">\r\n     <g id=\"line2d_1\">\r\n      <defs>\r\n       <path d=\"M 0 0 \r\nL 0 3.5 \r\n\" id=\"me29af95ddb\" style=\"stroke:#000000;stroke-width:0.8;\"/>\r\n      </defs>\r\n      <g>\r\n       <use style=\"stroke:#000000;stroke-width:0.8;\" x=\"30.3225\" xlink:href=\"#me29af95ddb\" y=\"225.041719\"/>\r\n      </g>\r\n     </g>\r\n     <g id=\"text_1\">\r\n      <!-- 0 -->\r\n      <defs>\r\n       <path d=\"M 31.78125 66.40625 \r\nQ 24.171875 66.40625 20.328125 58.90625 \r\nQ 16.5 51.421875 16.5 36.375 \r\nQ 16.5 21.390625 20.328125 13.890625 \r\nQ 24.171875 6.390625 31.78125 6.390625 \r\nQ 39.453125 6.390625 43.28125 13.890625 \r\nQ 47.125 21.390625 47.125 36.375 \r\nQ 47.125 51.421875 43.28125 58.90625 \r\nQ 39.453125 66.40625 31.78125 66.40625 \r\nz\r\nM 31.78125 74.21875 \r\nQ 44.046875 74.21875 50.515625 64.515625 \r\nQ 56.984375 54.828125 56.984375 36.375 \r\nQ 56.984375 17.96875 50.515625 8.265625 \r\nQ 44.046875 -1.421875 31.78125 -1.421875 \r\nQ 19.53125 -1.421875 13.0625 8.265625 \r\nQ 6.59375 17.96875 6.59375 36.375 \r\nQ 6.59375 54.828125 13.0625 64.515625 \r\nQ 19.53125 74.21875 31.78125 74.21875 \r\nz\r\n\" id=\"DejaVuSans-48\"/>\r\n      </defs>\r\n      <g transform=\"translate(27.14125 239.640156)scale(0.1 -0.1)\">\r\n       <use xlink:href=\"#DejaVuSans-48\"/>\r\n      </g>\r\n     </g>\r\n    </g>\r\n    <g id=\"xtick_2\">\r\n     <g id=\"line2d_2\">\r\n      <g>\r\n       <use style=\"stroke:#000000;stroke-width:0.8;\" x=\"64.2975\" xlink:href=\"#me29af95ddb\" y=\"225.041719\"/>\r\n      </g>\r\n     </g>\r\n     <g id=\"text_2\">\r\n      <!-- 5 -->\r\n      <defs>\r\n       <path d=\"M 10.796875 72.90625 \r\nL 49.515625 72.90625 \r\nL 49.515625 64.59375 \r\nL 19.828125 64.59375 \r\nL 19.828125 46.734375 \r\nQ 21.96875 47.46875 24.109375 47.828125 \r\nQ 26.265625 48.1875 28.421875 48.1875 \r\nQ 40.625 48.1875 47.75 41.5 \r\nQ 54.890625 34.8125 54.890625 23.390625 \r\nQ 54.890625 11.625 47.5625 5.09375 \r\nQ 40.234375 -1.421875 26.90625 -1.421875 \r\nQ 22.3125 -1.421875 17.546875 -0.640625 \r\nQ 12.796875 0.140625 7.71875 1.703125 \r\nL 7.71875 11.625 \r\nQ 12.109375 9.234375 16.796875 8.0625 \r\nQ 21.484375 6.890625 26.703125 6.890625 \r\nQ 35.15625 6.890625 40.078125 11.328125 \r\nQ 45.015625 15.765625 45.015625 23.390625 \r\nQ 45.015625 31 40.078125 35.4375 \r\nQ 35.15625 39.890625 26.703125 39.890625 \r\nQ 22.75 39.890625 18.8125 39.015625 \r\nQ 14.890625 38.140625 10.796875 36.28125 \r\nz\r\n\" id=\"DejaVuSans-53\"/>\r\n      </defs>\r\n      <g transform=\"translate(61.11625 239.640156)scale(0.1 -0.1)\">\r\n       <use xlink:href=\"#DejaVuSans-53\"/>\r\n      </g>\r\n     </g>\r\n    </g>\r\n    <g id=\"xtick_3\">\r\n     <g id=\"line2d_3\">\r\n      <g>\r\n       <use style=\"stroke:#000000;stroke-width:0.8;\" x=\"98.2725\" xlink:href=\"#me29af95ddb\" y=\"225.041719\"/>\r\n      </g>\r\n     </g>\r\n     <g id=\"text_3\">\r\n      <!-- 10 -->\r\n      <defs>\r\n       <path d=\"M 12.40625 8.296875 \r\nL 28.515625 8.296875 \r\nL 28.515625 63.921875 \r\nL 10.984375 60.40625 \r\nL 10.984375 69.390625 \r\nL 28.421875 72.90625 \r\nL 38.28125 72.90625 \r\nL 38.28125 8.296875 \r\nL 54.390625 8.296875 \r\nL 54.390625 0 \r\nL 12.40625 0 \r\nz\r\n\" id=\"DejaVuSans-49\"/>\r\n      </defs>\r\n      <g transform=\"translate(91.91 239.640156)scale(0.1 -0.1)\">\r\n       <use xlink:href=\"#DejaVuSans-49\"/>\r\n       <use x=\"63.623047\" xlink:href=\"#DejaVuSans-48\"/>\r\n      </g>\r\n     </g>\r\n    </g>\r\n    <g id=\"xtick_4\">\r\n     <g id=\"line2d_4\">\r\n      <g>\r\n       <use style=\"stroke:#000000;stroke-width:0.8;\" x=\"132.2475\" xlink:href=\"#me29af95ddb\" y=\"225.041719\"/>\r\n      </g>\r\n     </g>\r\n     <g id=\"text_4\">\r\n      <!-- 15 -->\r\n      <g transform=\"translate(125.885 239.640156)scale(0.1 -0.1)\">\r\n       <use xlink:href=\"#DejaVuSans-49\"/>\r\n       <use x=\"63.623047\" xlink:href=\"#DejaVuSans-53\"/>\r\n      </g>\r\n     </g>\r\n    </g>\r\n    <g id=\"xtick_5\">\r\n     <g id=\"line2d_5\">\r\n      <g>\r\n       <use style=\"stroke:#000000;stroke-width:0.8;\" x=\"166.2225\" xlink:href=\"#me29af95ddb\" y=\"225.041719\"/>\r\n      </g>\r\n     </g>\r\n     <g id=\"text_5\">\r\n      <!-- 20 -->\r\n      <defs>\r\n       <path d=\"M 19.1875 8.296875 \r\nL 53.609375 8.296875 \r\nL 53.609375 0 \r\nL 7.328125 0 \r\nL 7.328125 8.296875 \r\nQ 12.9375 14.109375 22.625 23.890625 \r\nQ 32.328125 33.6875 34.8125 36.53125 \r\nQ 39.546875 41.84375 41.421875 45.53125 \r\nQ 43.3125 49.21875 43.3125 52.78125 \r\nQ 43.3125 58.59375 39.234375 62.25 \r\nQ 35.15625 65.921875 28.609375 65.921875 \r\nQ 23.96875 65.921875 18.8125 64.3125 \r\nQ 13.671875 62.703125 7.8125 59.421875 \r\nL 7.8125 69.390625 \r\nQ 13.765625 71.78125 18.9375 73 \r\nQ 24.125 74.21875 28.421875 74.21875 \r\nQ 39.75 74.21875 46.484375 68.546875 \r\nQ 53.21875 62.890625 53.21875 53.421875 \r\nQ 53.21875 48.921875 51.53125 44.890625 \r\nQ 49.859375 40.875 45.40625 35.40625 \r\nQ 44.1875 33.984375 37.640625 27.21875 \r\nQ 31.109375 20.453125 19.1875 8.296875 \r\nz\r\n\" id=\"DejaVuSans-50\"/>\r\n      </defs>\r\n      <g transform=\"translate(159.86 239.640156)scale(0.1 -0.1)\">\r\n       <use xlink:href=\"#DejaVuSans-50\"/>\r\n       <use x=\"63.623047\" xlink:href=\"#DejaVuSans-48\"/>\r\n      </g>\r\n     </g>\r\n    </g>\r\n    <g id=\"xtick_6\">\r\n     <g id=\"line2d_6\">\r\n      <g>\r\n       <use style=\"stroke:#000000;stroke-width:0.8;\" x=\"200.1975\" xlink:href=\"#me29af95ddb\" y=\"225.041719\"/>\r\n      </g>\r\n     </g>\r\n     <g id=\"text_6\">\r\n      <!-- 25 -->\r\n      <g transform=\"translate(193.835 239.640156)scale(0.1 -0.1)\">\r\n       <use xlink:href=\"#DejaVuSans-50\"/>\r\n       <use x=\"63.623047\" xlink:href=\"#DejaVuSans-53\"/>\r\n      </g>\r\n     </g>\r\n    </g>\r\n    <g id=\"xtick_7\">\r\n     <g id=\"line2d_7\">\r\n      <g>\r\n       <use style=\"stroke:#000000;stroke-width:0.8;\" x=\"234.1725\" xlink:href=\"#me29af95ddb\" y=\"225.041719\"/>\r\n      </g>\r\n     </g>\r\n     <g id=\"text_7\">\r\n      <!-- 30 -->\r\n      <defs>\r\n       <path d=\"M 40.578125 39.3125 \r\nQ 47.65625 37.796875 51.625 33 \r\nQ 55.609375 28.21875 55.609375 21.1875 \r\nQ 55.609375 10.40625 48.1875 4.484375 \r\nQ 40.765625 -1.421875 27.09375 -1.421875 \r\nQ 22.515625 -1.421875 17.65625 -0.515625 \r\nQ 12.796875 0.390625 7.625 2.203125 \r\nL 7.625 11.71875 \r\nQ 11.71875 9.328125 16.59375 8.109375 \r\nQ 21.484375 6.890625 26.8125 6.890625 \r\nQ 36.078125 6.890625 40.9375 10.546875 \r\nQ 45.796875 14.203125 45.796875 21.1875 \r\nQ 45.796875 27.640625 41.28125 31.265625 \r\nQ 36.765625 34.90625 28.71875 34.90625 \r\nL 20.21875 34.90625 \r\nL 20.21875 43.015625 \r\nL 29.109375 43.015625 \r\nQ 36.375 43.015625 40.234375 45.921875 \r\nQ 44.09375 48.828125 44.09375 54.296875 \r\nQ 44.09375 59.90625 40.109375 62.90625 \r\nQ 36.140625 65.921875 28.71875 65.921875 \r\nQ 24.65625 65.921875 20.015625 65.03125 \r\nQ 15.375 64.15625 9.8125 62.3125 \r\nL 9.8125 71.09375 \r\nQ 15.4375 72.65625 20.34375 73.4375 \r\nQ 25.25 74.21875 29.59375 74.21875 \r\nQ 40.828125 74.21875 47.359375 69.109375 \r\nQ 53.90625 64.015625 53.90625 55.328125 \r\nQ 53.90625 49.265625 50.4375 45.09375 \r\nQ 46.96875 40.921875 40.578125 39.3125 \r\nz\r\n\" id=\"DejaVuSans-51\"/>\r\n      </defs>\r\n      <g transform=\"translate(227.81 239.640156)scale(0.1 -0.1)\">\r\n       <use xlink:href=\"#DejaVuSans-51\"/>\r\n       <use x=\"63.623047\" xlink:href=\"#DejaVuSans-48\"/>\r\n      </g>\r\n     </g>\r\n    </g>\r\n   </g>\r\n   <g id=\"matplotlib.axis_2\">\r\n    <g id=\"ytick_1\">\r\n     <g id=\"line2d_8\">\r\n      <defs>\r\n       <path d=\"M 0 0 \r\nL -3.5 0 \r\n\" id=\"m051f0e3cef\" style=\"stroke:#000000;stroke-width:0.8;\"/>\r\n      </defs>\r\n      <g>\r\n       <use style=\"stroke:#000000;stroke-width:0.8;\" x=\"26.925\" xlink:href=\"#m051f0e3cef\" y=\"10.999219\"/>\r\n      </g>\r\n     </g>\r\n     <g id=\"text_8\">\r\n      <!-- 0 -->\r\n      <g transform=\"translate(13.5625 14.798437)scale(0.1 -0.1)\">\r\n       <use xlink:href=\"#DejaVuSans-48\"/>\r\n      </g>\r\n     </g>\r\n    </g>\r\n    <g id=\"ytick_2\">\r\n     <g id=\"line2d_9\">\r\n      <g>\r\n       <use style=\"stroke:#000000;stroke-width:0.8;\" x=\"26.925\" xlink:href=\"#m051f0e3cef\" y=\"44.974219\"/>\r\n      </g>\r\n     </g>\r\n     <g id=\"text_9\">\r\n      <!-- 5 -->\r\n      <g transform=\"translate(13.5625 48.773437)scale(0.1 -0.1)\">\r\n       <use xlink:href=\"#DejaVuSans-53\"/>\r\n      </g>\r\n     </g>\r\n    </g>\r\n    <g id=\"ytick_3\">\r\n     <g id=\"line2d_10\">\r\n      <g>\r\n       <use style=\"stroke:#000000;stroke-width:0.8;\" x=\"26.925\" xlink:href=\"#m051f0e3cef\" y=\"78.949219\"/>\r\n      </g>\r\n     </g>\r\n     <g id=\"text_10\">\r\n      <!-- 10 -->\r\n      <g transform=\"translate(7.2 82.748437)scale(0.1 -0.1)\">\r\n       <use xlink:href=\"#DejaVuSans-49\"/>\r\n       <use x=\"63.623047\" xlink:href=\"#DejaVuSans-48\"/>\r\n      </g>\r\n     </g>\r\n    </g>\r\n    <g id=\"ytick_4\">\r\n     <g id=\"line2d_11\">\r\n      <g>\r\n       <use style=\"stroke:#000000;stroke-width:0.8;\" x=\"26.925\" xlink:href=\"#m051f0e3cef\" y=\"112.924219\"/>\r\n      </g>\r\n     </g>\r\n     <g id=\"text_11\">\r\n      <!-- 15 -->\r\n      <g transform=\"translate(7.2 116.723437)scale(0.1 -0.1)\">\r\n       <use xlink:href=\"#DejaVuSans-49\"/>\r\n       <use x=\"63.623047\" xlink:href=\"#DejaVuSans-53\"/>\r\n      </g>\r\n     </g>\r\n    </g>\r\n    <g id=\"ytick_5\">\r\n     <g id=\"line2d_12\">\r\n      <g>\r\n       <use style=\"stroke:#000000;stroke-width:0.8;\" x=\"26.925\" xlink:href=\"#m051f0e3cef\" y=\"146.899219\"/>\r\n      </g>\r\n     </g>\r\n     <g id=\"text_12\">\r\n      <!-- 20 -->\r\n      <g transform=\"translate(7.2 150.698437)scale(0.1 -0.1)\">\r\n       <use xlink:href=\"#DejaVuSans-50\"/>\r\n       <use x=\"63.623047\" xlink:href=\"#DejaVuSans-48\"/>\r\n      </g>\r\n     </g>\r\n    </g>\r\n    <g id=\"ytick_6\">\r\n     <g id=\"line2d_13\">\r\n      <g>\r\n       <use style=\"stroke:#000000;stroke-width:0.8;\" x=\"26.925\" xlink:href=\"#m051f0e3cef\" y=\"180.874219\"/>\r\n      </g>\r\n     </g>\r\n     <g id=\"text_13\">\r\n      <!-- 25 -->\r\n      <g transform=\"translate(7.2 184.673437)scale(0.1 -0.1)\">\r\n       <use xlink:href=\"#DejaVuSans-50\"/>\r\n       <use x=\"63.623047\" xlink:href=\"#DejaVuSans-53\"/>\r\n      </g>\r\n     </g>\r\n    </g>\r\n    <g id=\"ytick_7\">\r\n     <g id=\"line2d_14\">\r\n      <g>\r\n       <use style=\"stroke:#000000;stroke-width:0.8;\" x=\"26.925\" xlink:href=\"#m051f0e3cef\" y=\"214.849219\"/>\r\n      </g>\r\n     </g>\r\n     <g id=\"text_14\">\r\n      <!-- 30 -->\r\n      <g transform=\"translate(7.2 218.648437)scale(0.1 -0.1)\">\r\n       <use xlink:href=\"#DejaVuSans-51\"/>\r\n       <use x=\"63.623047\" xlink:href=\"#DejaVuSans-48\"/>\r\n      </g>\r\n     </g>\r\n    </g>\r\n   </g>\r\n   <g id=\"patch_3\">\r\n    <path d=\"M 26.925 225.041719 \r\nL 26.925 7.601719 \r\n\" style=\"fill:none;stroke:#000000;stroke-linecap:square;stroke-linejoin:miter;stroke-width:0.8;\"/>\r\n   </g>\r\n   <g id=\"patch_4\">\r\n    <path d=\"M 244.365 225.041719 \r\nL 244.365 7.601719 \r\n\" style=\"fill:none;stroke:#000000;stroke-linecap:square;stroke-linejoin:miter;stroke-width:0.8;\"/>\r\n   </g>\r\n   <g id=\"patch_5\">\r\n    <path d=\"M 26.925 225.041719 \r\nL 244.365 225.041719 \r\n\" style=\"fill:none;stroke:#000000;stroke-linecap:square;stroke-linejoin:miter;stroke-width:0.8;\"/>\r\n   </g>\r\n   <g id=\"patch_6\">\r\n    <path d=\"M 26.925 7.601719 \r\nL 244.365 7.601719 \r\n\" style=\"fill:none;stroke:#000000;stroke-linecap:square;stroke-linejoin:miter;stroke-width:0.8;\"/>\r\n   </g>\r\n  </g>\r\n </g>\r\n <defs>\r\n  <clipPath id=\"p92f379d54b\">\r\n   <rect height=\"217.44\" width=\"217.44\" x=\"26.925\" y=\"7.601719\"/>\r\n  </clipPath>\r\n </defs>\r\n</svg>\r\n",
      "image/png": "[encoded data removed]"
     },
     "metadata": {
      "needs_background": "light"
     }
    }
   ],
   "source": [
    "img, _ = cifar2[0]\n",
    "\n",
    "plt.imshow(img.permute(1, 2, 0))\n",
    "plt.show()"
   ]
  },
  {
   "cell_type": "code",
   "execution_count": 31,
   "metadata": {},
   "outputs": [
    {
     "output_type": "execute_result",
     "data": {
      "text/plain": [
       "(tensor([[[ 0.6139, -0.3228,  ..., -0.2752, -0.5451],\n",
       "          [ 0.6615, -0.1482,  ..., -0.3228, -0.5768],\n",
       "          ...,\n",
       "          [ 0.5980,  0.4393,  ..., -0.4340,  0.0265],\n",
       "          [ 0.9156,  0.8044,  ..., -0.5451, -0.0529]],\n",
       " \n",
       "         [[ 1.3369,  0.2740,  ...,  0.3867,  0.0968],\n",
       "          [ 1.4497,  0.5961,  ...,  0.3062,  0.0646],\n",
       "          ...,\n",
       "          [ 0.5478,  0.6605,  ...,  0.4028,  0.8860],\n",
       "          [ 0.4834,  0.9504,  ...,  0.1613,  0.7572]],\n",
       " \n",
       "         [[-0.4487, -0.7935,  ..., -0.6736, -0.8535],\n",
       "          [-0.4487, -0.9734,  ..., -0.6286, -0.8535],\n",
       "          ...,\n",
       "          [-0.4337, -0.4787,  ..., -1.3032, -0.9884],\n",
       "          [-0.1789,  0.0310,  ..., -1.3182, -1.0484]]]),\n",
       " 1)"
      ]
     },
     "metadata": {},
     "execution_count": 31
    }
   ],
   "source": [
    "cifar2[0]"
   ]
  },
  {
   "cell_type": "code",
   "execution_count": 32,
   "metadata": {},
   "outputs": [
    {
     "output_type": "execute_result",
     "data": {
      "text/plain": [
       "torch.Size([3, 32, 32])"
      ]
     },
     "metadata": {},
     "execution_count": 32
    }
   ],
   "source": [
    "img.shape"
   ]
  },
  {
   "cell_type": "code",
   "execution_count": 33,
   "metadata": {},
   "outputs": [],
   "source": [
    "img_batch = img.view(-1).unsqueeze(0)"
   ]
  },
  {
   "cell_type": "code",
   "execution_count": 36,
   "metadata": {},
   "outputs": [
    {
     "output_type": "execute_result",
     "data": {
      "text/plain": [
       "torch.Size([3072])"
      ]
     },
     "metadata": {},
     "execution_count": 36
    }
   ],
   "source": [
    "img.view(-1).shape # imgを1次元にしている"
   ]
  },
  {
   "cell_type": "code",
   "execution_count": 35,
   "metadata": {},
   "outputs": [
    {
     "output_type": "execute_result",
     "data": {
      "text/plain": [
       "torch.Size([1, 3072])"
      ]
     },
     "metadata": {},
     "execution_count": 35
    }
   ],
   "source": [
    "img.view(-1).unsqueeze(0).shape # 0次元目を追加している"
   ]
  },
  {
   "cell_type": "code",
   "execution_count": 37,
   "metadata": {},
   "outputs": [
    {
     "output_type": "execute_result",
     "data": {
      "text/plain": [
       "tensor([[0.4784, 0.5216]], grad_fn=<SoftmaxBackward>)"
      ]
     },
     "metadata": {},
     "execution_count": 37
    }
   ],
   "source": [
    "out = model(img_batch)\n",
    "out"
   ]
  },
  {
   "cell_type": "code",
   "execution_count": 38,
   "metadata": {},
   "outputs": [
    {
     "output_type": "execute_result",
     "data": {
      "text/plain": [
       "torch.Size([1, 2])"
      ]
     },
     "metadata": {},
     "execution_count": 38
    }
   ],
   "source": [
    "out.shape # クラスごとの確率がでる"
   ]
  },
  {
   "cell_type": "code",
   "execution_count": null,
   "metadata": {},
   "outputs": [],
   "source": []
  },
  {
   "cell_type": "code",
   "execution_count": 39,
   "metadata": {},
   "outputs": [
    {
     "output_type": "execute_result",
     "data": {
      "text/plain": [
       "tensor([1])"
      ]
     },
     "metadata": {},
     "execution_count": 39
    }
   ],
   "source": [
    "_, index = torch.max(out, dim=1)\n",
    "\n",
    "index"
   ]
  },
  {
   "cell_type": "code",
   "execution_count": 40,
   "metadata": {},
   "outputs": [
    {
     "output_type": "execute_result",
     "data": {
      "text/plain": [
       "tensor([0.5216], grad_fn=<MaxBackward0>)"
      ]
     },
     "metadata": {},
     "execution_count": 40
    }
   ],
   "source": [
    "_ # 実際の確率が入っている grad属性付き"
   ]
  },
  {
   "cell_type": "code",
   "execution_count": 53,
   "metadata": {},
   "outputs": [
    {
     "output_type": "execute_result",
     "data": {
      "text/plain": [
       "tensor([[1., 0.],\n",
       "        [1., 0.],\n",
       "        [0., 1.],\n",
       "        [0., 1.]])"
      ]
     },
     "metadata": {},
     "execution_count": 53
    }
   ],
   "source": [
    "out = torch.tensor([\n",
    "    [0.6, 0.4],\n",
    "    [0.9, 0.1],\n",
    "    [0.3, 0.7],\n",
    "    [0.2, 0.8],\n",
    "])\n",
    "class_index = torch.tensor([0, 0, 1, 1]).unsqueeze(1)\n",
    "\n",
    "truth = torch.zeros((4,2))\n",
    "truth.scatter_(dim=1, index=class_index, value=1.0) # one-hotを作成\n",
    "# https://qiita.com/tomp/items/a62ecade13c05e026de6\n",
    "# https://kidnohr.hatenadiary.com/entry/2019/10/16/164541 scatter と gatherの違い\n",
    "truth # この出力がわからない"
   ]
  },
  {
   "cell_type": "code",
   "execution_count": 47,
   "metadata": {},
   "outputs": [
    {
     "output_type": "execute_result",
     "data": {
      "text/plain": [
       "tensor([[0],\n",
       "        [0],\n",
       "        [1],\n",
       "        [1]])"
      ]
     },
     "metadata": {},
     "execution_count": 47
    }
   ],
   "source": [
    "class_index"
   ]
  },
  {
   "cell_type": "code",
   "execution_count": 42,
   "metadata": {},
   "outputs": [
    {
     "output_type": "execute_result",
     "data": {
      "text/plain": [
       "tensor([[0.6000, 0.4000],\n",
       "        [0.9000, 0.1000],\n",
       "        [0.3000, 0.7000],\n",
       "        [0.2000, 0.8000]])"
      ]
     },
     "metadata": {},
     "execution_count": 42
    }
   ],
   "source": [
    "out"
   ]
  },
  {
   "cell_type": "code",
   "execution_count": 54,
   "metadata": {},
   "outputs": [],
   "source": [
    "# 3/5 ここまで"
   ]
  },
  {
   "cell_type": "code",
   "execution_count": null,
   "metadata": {},
   "outputs": [],
   "source": []
  },
  {
   "cell_type": "code",
   "execution_count": 49,
   "metadata": {},
   "outputs": [
    {
     "output_type": "execute_result",
     "data": {
      "text/plain": [
       "tensor(0.1500)"
      ]
     },
     "metadata": {},
     "execution_count": 49
    }
   ],
   "source": [
    "def mse(out):\n",
    "    return ((out - truth) ** 2).sum(dim=1).mean()\n",
    "mse(out)"
   ]
  },
  {
   "cell_type": "code",
   "execution_count": 50,
   "metadata": {},
   "outputs": [
    {
     "output_type": "execute_result",
     "data": {
      "text/plain": [
       "tensor([[0.6000],\n",
       "        [0.9000],\n",
       "        [0.7000],\n",
       "        [0.8000]])"
      ]
     },
     "metadata": {},
     "execution_count": 50
    }
   ],
   "source": [
    "out.gather(dim=1, index=class_index)"
   ]
  },
  {
   "cell_type": "code",
   "execution_count": 19,
   "metadata": {},
   "outputs": [
    {
     "data": {
      "text/plain": [
       "tensor([0.3024])"
      ]
     },
     "execution_count": 19,
     "metadata": {},
     "output_type": "execute_result"
    }
   ],
   "source": [
    "def likelihood(out):\n",
    "    prod = 1.0\n",
    "    for x in out.gather(dim=1, index=class_index):\n",
    "        prod *= x\n",
    "    return prod\n",
    "\n",
    "likelihood(out)"
   ]
  },
  {
   "cell_type": "code",
   "execution_count": 20,
   "metadata": {},
   "outputs": [
    {
     "data": {
      "text/plain": [
       "tensor([1.1960])"
      ]
     },
     "execution_count": 20,
     "metadata": {},
     "output_type": "execute_result"
    }
   ],
   "source": [
    "def neg_log_likelihood(out):\n",
    "    return -likelihood(out).log()\n",
    "\n",
    "neg_log_likelihood(out)"
   ]
  },
  {
   "cell_type": "code",
   "execution_count": 21,
   "metadata": {},
   "outputs": [
    {
     "data": {
      "text/plain": [
       "tensor([0.0750, 0.1500, 0.2500, 0.4750])"
      ]
     },
     "execution_count": 21,
     "metadata": {},
     "output_type": "execute_result"
    }
   ],
   "source": [
    "out0 = out.clone().detach()\n",
    "out0[0] = torch.tensor([0.9, 0.1]) # more right\n",
    "\n",
    "out2 = out.clone().detach()\n",
    "out2[0] = torch.tensor([0.4, 0.6]) # slightly wrong\n",
    "\n",
    "out3 = out.clone().detach()\n",
    "out3[0] = torch.tensor([0.1, 0.9]) # very wrong\n",
    "\n",
    "mse_comparison = torch.tensor([mse(o) for o in [out0, out, out2, out3]])\n",
    "mse_comparison"
   ]
  },
  {
   "cell_type": "code",
   "execution_count": 22,
   "metadata": {},
   "outputs": [
    {
     "data": {
      "text/plain": [
       "tensor([-50.0000,   0.0000,  66.6667, 216.6667])"
      ]
     },
     "execution_count": 22,
     "metadata": {},
     "output_type": "execute_result"
    }
   ],
   "source": [
    "((mse_comparison / mse_comparison[1]) - 1) * 100"
   ]
  },
  {
   "cell_type": "code",
   "execution_count": 23,
   "metadata": {},
   "outputs": [
    {
     "data": {
      "text/plain": [
       "tensor([0.7905, 1.1960, 1.6015, 2.9878])"
      ]
     },
     "execution_count": 23,
     "metadata": {},
     "output_type": "execute_result"
    }
   ],
   "source": [
    "nll_comparison = torch.tensor([neg_log_likelihood(o) \n",
    "                               for o in [out0, out, out2, out3]])\n",
    "nll_comparison"
   ]
  },
  {
   "cell_type": "code",
   "execution_count": 24,
   "metadata": {},
   "outputs": [
    {
     "data": {
      "text/plain": [
       "tensor([-33.9016,   0.0000,  33.9016, 149.8121])"
      ]
     },
     "execution_count": 24,
     "metadata": {},
     "output_type": "execute_result"
    }
   ],
   "source": [
    "((nll_comparison / nll_comparison[1]) - 1) * 100"
   ]
  },
  {
   "cell_type": "code",
   "execution_count": 25,
   "metadata": {},
   "outputs": [
    {
     "data": {
      "text/plain": [
       "tensor([[0., 1.]])"
      ]
     },
     "execution_count": 25,
     "metadata": {},
     "output_type": "execute_result"
    }
   ],
   "source": [
    "softmax = nn.Softmax(dim=1)\n",
    "\n",
    "log_softmax = nn.LogSoftmax(dim=1)\n",
    "\n",
    "x = torch.tensor([[0.0, 104.0]])\n",
    "\n",
    "softmax(x)"
   ]
  },
  {
   "cell_type": "code",
   "execution_count": 26,
   "metadata": {},
   "outputs": [
    {
     "data": {
      "text/plain": [
       "tensor([[0., 1.]])"
      ]
     },
     "execution_count": 26,
     "metadata": {},
     "output_type": "execute_result"
    }
   ],
   "source": [
    "softmax = nn.Softmax(dim=1)\n",
    "\n",
    "log_softmax = nn.LogSoftmax(dim=1)\n",
    "\n",
    "x = torch.tensor([[0.0, 104.0]])\n",
    "\n",
    "softmax(x)"
   ]
  },
  {
   "cell_type": "code",
   "execution_count": 27,
   "metadata": {},
   "outputs": [
    {
     "data": {
      "text/plain": [
       "tensor([[-inf, 0.]])"
      ]
     },
     "execution_count": 27,
     "metadata": {},
     "output_type": "execute_result"
    }
   ],
   "source": [
    "torch.log(softmax(x))"
   ]
  },
  {
   "cell_type": "code",
   "execution_count": 28,
   "metadata": {},
   "outputs": [
    {
     "data": {
      "text/plain": [
       "tensor([[-104.,    0.]])"
      ]
     },
     "execution_count": 28,
     "metadata": {},
     "output_type": "execute_result"
    }
   ],
   "source": [
    "log_softmax(x)"
   ]
  },
  {
   "cell_type": "code",
   "execution_count": 29,
   "metadata": {},
   "outputs": [
    {
     "data": {
      "text/plain": [
       "tensor([[0., 1.]])"
      ]
     },
     "execution_count": 29,
     "metadata": {},
     "output_type": "execute_result"
    }
   ],
   "source": [
    "torch.exp(log_softmax(x))"
   ]
  },
  {
   "cell_type": "code",
   "execution_count": 30,
   "metadata": {},
   "outputs": [],
   "source": [
    "model = nn.Sequential(\n",
    "            nn.Linear(3072, 512),\n",
    "            nn.Tanh(),\n",
    "            nn.Linear(512, 2),\n",
    "            nn.LogSoftmax(dim=1))"
   ]
  },
  {
   "cell_type": "code",
   "execution_count": 31,
   "metadata": {},
   "outputs": [],
   "source": [
    "loss = nn.NLLLoss()"
   ]
  },
  {
   "cell_type": "code",
   "execution_count": 32,
   "metadata": {},
   "outputs": [
    {
     "data": {
      "text/plain": [
       "tensor(0.5077, grad_fn=<NllLossBackward>)"
      ]
     },
     "execution_count": 32,
     "metadata": {},
     "output_type": "execute_result"
    }
   ],
   "source": [
    "img, label = cifar2[0]\n",
    "\n",
    "out = model(img.view(-1).unsqueeze(0))\n",
    "\n",
    "loss(out, torch.tensor([label]))"
   ]
  },
  {
   "cell_type": "code",
   "execution_count": 33,
   "metadata": {},
   "outputs": [
    {
     "name": "stdout",
     "output_type": "stream",
     "text": [
      "Epoch: 0, Loss: 5.347057\n",
      "Epoch: 1, Loss: 7.705317\n",
      "Epoch: 2, Loss: 6.510838\n",
      "Epoch: 3, Loss: 9.557189\n",
      "Epoch: 4, Loss: 4.151933\n",
      "Epoch: 5, Loss: 5.636873\n",
      "Epoch: 6, Loss: 6.531207\n",
      "Epoch: 7, Loss: 20.450516\n",
      "Epoch: 8, Loss: 5.072948\n",
      "Epoch: 9, Loss: 4.941860\n",
      "Epoch: 10, Loss: 6.445535\n",
      "Epoch: 11, Loss: 4.580799\n",
      "Epoch: 12, Loss: 6.660308\n",
      "Epoch: 13, Loss: 9.436373\n",
      "Epoch: 14, Loss: 16.786476\n",
      "Epoch: 15, Loss: 8.349138\n",
      "Epoch: 16, Loss: 8.176860\n",
      "Epoch: 17, Loss: 5.862664\n",
      "Epoch: 18, Loss: 8.218906\n",
      "Epoch: 19, Loss: 13.296558\n",
      "Epoch: 20, Loss: 7.313433\n",
      "Epoch: 21, Loss: 4.585245\n",
      "Epoch: 22, Loss: 11.706884\n",
      "Epoch: 23, Loss: 18.208710\n",
      "Epoch: 24, Loss: 0.343157\n",
      "Epoch: 25, Loss: 9.255491\n",
      "Epoch: 26, Loss: 10.466807\n",
      "Epoch: 27, Loss: 12.226366\n",
      "Epoch: 28, Loss: 12.728527\n",
      "Epoch: 29, Loss: 9.777843\n",
      "Epoch: 30, Loss: 6.128856\n",
      "Epoch: 31, Loss: 13.284330\n",
      "Epoch: 32, Loss: 10.321814\n",
      "Epoch: 33, Loss: 2.928349\n",
      "Epoch: 34, Loss: 8.623670\n",
      "Epoch: 35, Loss: 12.719531\n",
      "Epoch: 36, Loss: 4.030444\n",
      "Epoch: 37, Loss: 4.621825\n",
      "Epoch: 38, Loss: 13.210777\n",
      "Epoch: 39, Loss: 14.217413\n",
      "Epoch: 40, Loss: 3.880259\n",
      "Epoch: 41, Loss: 13.189833\n",
      "Epoch: 42, Loss: 17.787762\n",
      "Epoch: 43, Loss: 3.953930\n",
      "Epoch: 44, Loss: 0.640078\n",
      "Epoch: 45, Loss: 9.262226\n",
      "Epoch: 46, Loss: 7.383645\n",
      "Epoch: 47, Loss: 5.352252\n",
      "Epoch: 48, Loss: 11.515299\n",
      "Epoch: 49, Loss: 12.266010\n",
      "Epoch: 50, Loss: 12.210896\n",
      "Epoch: 51, Loss: 3.987965\n",
      "Epoch: 52, Loss: 12.570765\n",
      "Epoch: 53, Loss: 13.025002\n",
      "Epoch: 54, Loss: 13.747946\n",
      "Epoch: 55, Loss: 6.783926\n",
      "Epoch: 56, Loss: 11.822943\n",
      "Epoch: 57, Loss: 8.200066\n",
      "Epoch: 58, Loss: 9.206728\n",
      "Epoch: 59, Loss: 7.715425\n",
      "Epoch: 60, Loss: 5.571069\n",
      "Epoch: 61, Loss: 13.017315\n",
      "Epoch: 62, Loss: 10.307802\n",
      "Epoch: 63, Loss: 2.660404\n",
      "Epoch: 64, Loss: 11.096642\n",
      "Epoch: 65, Loss: 5.284830\n",
      "Epoch: 66, Loss: 8.374750\n",
      "Epoch: 67, Loss: 1.418676\n",
      "Epoch: 68, Loss: 9.891462\n",
      "Epoch: 69, Loss: 9.079073\n",
      "Epoch: 70, Loss: 6.453581\n",
      "Epoch: 71, Loss: 8.293860\n",
      "Epoch: 72, Loss: 4.585221\n",
      "Epoch: 73, Loss: 14.174129\n",
      "Epoch: 74, Loss: 6.072280\n",
      "Epoch: 75, Loss: 5.925417\n",
      "Epoch: 76, Loss: 0.260600\n",
      "Epoch: 77, Loss: 3.055498\n",
      "Epoch: 78, Loss: 0.347163\n",
      "Epoch: 79, Loss: 3.497080\n",
      "Epoch: 80, Loss: 6.615281\n",
      "Epoch: 81, Loss: 8.944511\n",
      "Epoch: 82, Loss: 10.230938\n",
      "Epoch: 83, Loss: 6.776264\n",
      "Epoch: 84, Loss: 10.169885\n",
      "Epoch: 85, Loss: 7.014330\n",
      "Epoch: 86, Loss: 3.467798\n",
      "Epoch: 87, Loss: 3.772486\n",
      "Epoch: 88, Loss: 13.495383\n",
      "Epoch: 89, Loss: 11.781836\n",
      "Epoch: 90, Loss: 6.853724\n",
      "Epoch: 91, Loss: 3.313806\n",
      "Epoch: 92, Loss: 7.867707\n",
      "Epoch: 93, Loss: 16.117371\n",
      "Epoch: 94, Loss: 15.077475\n",
      "Epoch: 95, Loss: 17.807060\n",
      "Epoch: 96, Loss: 16.376089\n",
      "Epoch: 97, Loss: 9.348265\n",
      "Epoch: 98, Loss: 18.044790\n",
      "Epoch: 99, Loss: 15.565783\n"
     ]
    }
   ],
   "source": [
    "import torch\n",
    "import torch.nn as nn\n",
    "import torch.optim as optim\n",
    "\n",
    "model = nn.Sequential(\n",
    "            nn.Linear(3072, 512),\n",
    "            nn.Tanh(),\n",
    "            nn.Linear(512, 2),\n",
    "            nn.LogSoftmax(dim=1))\n",
    "\n",
    "learning_rate = 1e-2\n",
    "\n",
    "optimizer = optim.SGD(model.parameters(), lr=learning_rate)\n",
    "\n",
    "loss_fn = nn.NLLLoss()\n",
    "\n",
    "n_epochs = 100\n",
    "\n",
    "for epoch in range(n_epochs):\n",
    "    for img, label in cifar2:\n",
    "        out = model(img.view(-1).unsqueeze(0))\n",
    "        loss = loss_fn(out, torch.tensor([label]))\n",
    "                \n",
    "        optimizer.zero_grad()\n",
    "        loss.backward()\n",
    "        optimizer.step()\n",
    "\n",
    "    print(\"Epoch: %d, Loss: %f\" % (epoch, float(loss)))"
   ]
  },
  {
   "cell_type": "code",
   "execution_count": 34,
   "metadata": {},
   "outputs": [],
   "source": [
    "train_loader = torch.utils.data.DataLoader(cifar2, batch_size=64,\n",
    "                                           shuffle=True)"
   ]
  },
  {
   "cell_type": "code",
   "execution_count": 35,
   "metadata": {},
   "outputs": [
    {
     "name": "stdout",
     "output_type": "stream",
     "text": [
      "Epoch: 0, Loss: 0.604063\n",
      "Epoch: 1, Loss: 0.597974\n",
      "Epoch: 2, Loss: 0.271415\n",
      "Epoch: 3, Loss: 0.451056\n",
      "Epoch: 4, Loss: 0.629758\n",
      "Epoch: 5, Loss: 0.458762\n",
      "Epoch: 6, Loss: 0.277813\n",
      "Epoch: 7, Loss: 0.406921\n",
      "Epoch: 8, Loss: 0.951961\n",
      "Epoch: 9, Loss: 0.433738\n",
      "Epoch: 10, Loss: 0.351960\n",
      "Epoch: 11, Loss: 0.355687\n",
      "Epoch: 12, Loss: 0.518611\n",
      "Epoch: 13, Loss: 0.262623\n",
      "Epoch: 14, Loss: 0.221969\n",
      "Epoch: 15, Loss: 0.774132\n",
      "Epoch: 16, Loss: 0.324406\n",
      "Epoch: 17, Loss: 0.447701\n",
      "Epoch: 18, Loss: 0.299780\n",
      "Epoch: 19, Loss: 0.267090\n",
      "Epoch: 20, Loss: 0.279828\n",
      "Epoch: 21, Loss: 0.197123\n",
      "Epoch: 22, Loss: 0.196783\n",
      "Epoch: 23, Loss: 0.328715\n",
      "Epoch: 24, Loss: 0.334952\n",
      "Epoch: 25, Loss: 0.500689\n",
      "Epoch: 26, Loss: 0.186956\n",
      "Epoch: 27, Loss: 0.138649\n",
      "Epoch: 28, Loss: 0.239988\n",
      "Epoch: 29, Loss: 0.495020\n",
      "Epoch: 30, Loss: 0.251347\n",
      "Epoch: 31, Loss: 0.088298\n",
      "Epoch: 32, Loss: 0.175127\n",
      "Epoch: 33, Loss: 0.208338\n",
      "Epoch: 34, Loss: 0.145656\n",
      "Epoch: 35, Loss: 0.129570\n",
      "Epoch: 36, Loss: 0.200110\n",
      "Epoch: 37, Loss: 0.133076\n",
      "Epoch: 38, Loss: 0.230561\n",
      "Epoch: 39, Loss: 0.241688\n",
      "Epoch: 40, Loss: 0.106870\n",
      "Epoch: 41, Loss: 0.281168\n",
      "Epoch: 42, Loss: 0.175034\n",
      "Epoch: 43, Loss: 0.073779\n",
      "Epoch: 44, Loss: 0.171294\n",
      "Epoch: 45, Loss: 0.112456\n",
      "Epoch: 46, Loss: 0.132553\n",
      "Epoch: 47, Loss: 0.048826\n",
      "Epoch: 48, Loss: 0.076014\n",
      "Epoch: 49, Loss: 0.122317\n",
      "Epoch: 50, Loss: 0.103442\n",
      "Epoch: 51, Loss: 0.201585\n",
      "Epoch: 52, Loss: 0.145637\n",
      "Epoch: 53, Loss: 0.055844\n",
      "Epoch: 54, Loss: 0.046278\n",
      "Epoch: 55, Loss: 0.081562\n",
      "Epoch: 56, Loss: 0.058857\n",
      "Epoch: 57, Loss: 0.197200\n",
      "Epoch: 58, Loss: 0.044184\n",
      "Epoch: 59, Loss: 0.043374\n",
      "Epoch: 60, Loss: 0.032936\n",
      "Epoch: 61, Loss: 0.072488\n",
      "Epoch: 62, Loss: 0.060811\n",
      "Epoch: 63, Loss: 0.029262\n",
      "Epoch: 64, Loss: 0.036435\n",
      "Epoch: 65, Loss: 0.058120\n",
      "Epoch: 66, Loss: 0.063329\n",
      "Epoch: 67, Loss: 0.020670\n",
      "Epoch: 68, Loss: 0.077189\n",
      "Epoch: 69, Loss: 0.060933\n",
      "Epoch: 70, Loss: 0.070848\n",
      "Epoch: 71, Loss: 0.036434\n",
      "Epoch: 72, Loss: 0.084855\n",
      "Epoch: 73, Loss: 0.044776\n",
      "Epoch: 74, Loss: 0.037828\n",
      "Epoch: 75, Loss: 0.024554\n",
      "Epoch: 76, Loss: 0.018965\n",
      "Epoch: 77, Loss: 0.033381\n",
      "Epoch: 78, Loss: 0.016183\n",
      "Epoch: 79, Loss: 0.020083\n",
      "Epoch: 80, Loss: 0.041192\n",
      "Epoch: 81, Loss: 0.015122\n",
      "Epoch: 82, Loss: 0.014245\n",
      "Epoch: 83, Loss: 0.018538\n",
      "Epoch: 84, Loss: 0.044791\n",
      "Epoch: 85, Loss: 0.034532\n",
      "Epoch: 86, Loss: 0.010175\n",
      "Epoch: 87, Loss: 0.021837\n",
      "Epoch: 88, Loss: 0.005545\n",
      "Epoch: 89, Loss: 0.012682\n",
      "Epoch: 90, Loss: 0.026414\n",
      "Epoch: 91, Loss: 0.021372\n",
      "Epoch: 92, Loss: 0.025901\n",
      "Epoch: 93, Loss: 0.025262\n",
      "Epoch: 94, Loss: 0.047044\n",
      "Epoch: 95, Loss: 0.016064\n",
      "Epoch: 96, Loss: 0.059213\n",
      "Epoch: 97, Loss: 0.017386\n",
      "Epoch: 98, Loss: 0.016215\n",
      "Epoch: 99, Loss: 0.016987\n"
     ]
    }
   ],
   "source": [
    "import torch\n",
    "import torch.nn as nn\n",
    "import torch.optim as optim\n",
    "\n",
    "train_loader = torch.utils.data.DataLoader(cifar2, batch_size=64,\n",
    "                                           shuffle=True)\n",
    "\n",
    "model = nn.Sequential(\n",
    "            nn.Linear(3072, 128),\n",
    "            nn.Tanh(),\n",
    "            nn.Linear(128, 2),\n",
    "            nn.LogSoftmax(dim=1))\n",
    "\n",
    "learning_rate = 1e-2\n",
    "\n",
    "optimizer = optim.SGD(model.parameters(), lr=learning_rate)\n",
    "\n",
    "loss_fn = nn.NLLLoss()\n",
    "\n",
    "n_epochs = 100\n",
    "\n",
    "for epoch in range(n_epochs):\n",
    "    for imgs, labels in train_loader:\n",
    "        outputs = model(imgs.view(imgs.shape[0], -1))\n",
    "        loss = loss_fn(outputs, labels)\n",
    "\n",
    "        optimizer.zero_grad()\n",
    "        loss.backward()\n",
    "        optimizer.step()\n",
    "\n",
    "    print(\"Epoch: %d, Loss: %f\" % (epoch, float(loss)))"
   ]
  },
  {
   "cell_type": "code",
   "execution_count": 36,
   "metadata": {},
   "outputs": [
    {
     "name": "stdout",
     "output_type": "stream",
     "text": [
      "Epoch: 0, Loss: 0.732168\n",
      "Epoch: 1, Loss: 0.348352\n",
      "Epoch: 2, Loss: 0.318960\n",
      "Epoch: 3, Loss: 0.313264\n",
      "Epoch: 4, Loss: 0.378358\n",
      "Epoch: 5, Loss: 0.276529\n",
      "Epoch: 6, Loss: 0.443889\n",
      "Epoch: 7, Loss: 0.436946\n",
      "Epoch: 8, Loss: 0.324288\n",
      "Epoch: 9, Loss: 0.274647\n",
      "Epoch: 10, Loss: 0.291681\n",
      "Epoch: 11, Loss: 0.242894\n",
      "Epoch: 12, Loss: 0.301849\n",
      "Epoch: 13, Loss: 0.202063\n",
      "Epoch: 14, Loss: 0.389276\n",
      "Epoch: 15, Loss: 0.167129\n",
      "Epoch: 16, Loss: 0.135282\n",
      "Epoch: 17, Loss: 0.385485\n",
      "Epoch: 18, Loss: 0.453852\n",
      "Epoch: 19, Loss: 0.641304\n",
      "Epoch: 20, Loss: 0.287667\n",
      "Epoch: 21, Loss: 0.337029\n",
      "Epoch: 22, Loss: 0.393282\n",
      "Epoch: 23, Loss: 0.409480\n",
      "Epoch: 24, Loss: 0.138473\n",
      "Epoch: 25, Loss: 0.690729\n",
      "Epoch: 26, Loss: 0.572156\n",
      "Epoch: 27, Loss: 0.078534\n",
      "Epoch: 28, Loss: 0.324833\n",
      "Epoch: 29, Loss: 0.262829\n",
      "Epoch: 30, Loss: 0.430449\n",
      "Epoch: 31, Loss: 0.071872\n",
      "Epoch: 32, Loss: 0.058039\n",
      "Epoch: 33, Loss: 0.052903\n",
      "Epoch: 34, Loss: 0.065879\n",
      "Epoch: 35, Loss: 0.107696\n",
      "Epoch: 36, Loss: 0.305224\n",
      "Epoch: 37, Loss: 0.098637\n",
      "Epoch: 38, Loss: 0.139823\n",
      "Epoch: 39, Loss: 0.226455\n",
      "Epoch: 40, Loss: 0.117763\n",
      "Epoch: 41, Loss: 0.106498\n",
      "Epoch: 42, Loss: 0.086254\n",
      "Epoch: 43, Loss: 0.135652\n",
      "Epoch: 44, Loss: 0.070890\n",
      "Epoch: 45, Loss: 0.304346\n",
      "Epoch: 46, Loss: 0.016917\n",
      "Epoch: 47, Loss: 0.057929\n",
      "Epoch: 48, Loss: 0.131021\n",
      "Epoch: 49, Loss: 0.136299\n",
      "Epoch: 50, Loss: 0.048885\n",
      "Epoch: 51, Loss: 0.241048\n",
      "Epoch: 52, Loss: 0.092595\n",
      "Epoch: 53, Loss: 0.059137\n",
      "Epoch: 54, Loss: 0.047421\n",
      "Epoch: 55, Loss: 0.102036\n",
      "Epoch: 56, Loss: 0.023338\n",
      "Epoch: 57, Loss: 0.054306\n",
      "Epoch: 58, Loss: 0.073878\n",
      "Epoch: 59, Loss: 0.031387\n",
      "Epoch: 60, Loss: 0.039865\n",
      "Epoch: 61, Loss: 0.022344\n",
      "Epoch: 62, Loss: 0.052310\n",
      "Epoch: 63, Loss: 0.059688\n",
      "Epoch: 64, Loss: 0.023977\n",
      "Epoch: 65, Loss: 0.010632\n",
      "Epoch: 66, Loss: 0.039090\n",
      "Epoch: 67, Loss: 0.080844\n",
      "Epoch: 68, Loss: 0.029650\n",
      "Epoch: 69, Loss: 0.027038\n",
      "Epoch: 70, Loss: 0.028515\n",
      "Epoch: 71, Loss: 0.021998\n",
      "Epoch: 72, Loss: 0.014992\n",
      "Epoch: 73, Loss: 0.019659\n",
      "Epoch: 74, Loss: 0.025150\n",
      "Epoch: 75, Loss: 0.017384\n",
      "Epoch: 76, Loss: 0.013249\n",
      "Epoch: 77, Loss: 0.009451\n",
      "Epoch: 78, Loss: 0.034637\n",
      "Epoch: 79, Loss: 0.114242\n",
      "Epoch: 80, Loss: 0.019007\n",
      "Epoch: 81, Loss: 0.016319\n",
      "Epoch: 82, Loss: 0.027428\n",
      "Epoch: 83, Loss: 0.022366\n",
      "Epoch: 84, Loss: 0.022583\n",
      "Epoch: 85, Loss: 0.006275\n",
      "Epoch: 86, Loss: 0.011964\n",
      "Epoch: 87, Loss: 0.018711\n",
      "Epoch: 88, Loss: 0.019636\n",
      "Epoch: 89, Loss: 0.018975\n",
      "Epoch: 90, Loss: 0.023520\n",
      "Epoch: 91, Loss: 0.016398\n",
      "Epoch: 92, Loss: 0.006638\n",
      "Epoch: 93, Loss: 0.013305\n",
      "Epoch: 94, Loss: 0.017126\n",
      "Epoch: 95, Loss: 0.021641\n",
      "Epoch: 96, Loss: 0.036945\n",
      "Epoch: 97, Loss: 0.004735\n",
      "Epoch: 98, Loss: 0.016781\n",
      "Epoch: 99, Loss: 0.012039\n"
     ]
    }
   ],
   "source": [
    "import torch\n",
    "import torch.nn as nn\n",
    "import torch.optim as optim\n",
    "\n",
    "train_loader = torch.utils.data.DataLoader(cifar2, batch_size=64,\n",
    "                                           shuffle=True)\n",
    "\n",
    "model = nn.Sequential(\n",
    "            nn.Linear(3072, 512),\n",
    "            nn.Tanh(),\n",
    "            nn.Linear(512, 2),\n",
    "            nn.LogSoftmax(dim=1))\n",
    "\n",
    "learning_rate = 1e-2\n",
    "\n",
    "optimizer = optim.SGD(model.parameters(), lr=learning_rate)\n",
    "\n",
    "loss_fn = nn.NLLLoss()\n",
    "\n",
    "n_epochs = 100\n",
    "\n",
    "for epoch in range(n_epochs):\n",
    "    for imgs, labels in train_loader:\n",
    "        outputs = model(imgs.view(imgs.shape[0], -1))\n",
    "        loss = loss_fn(outputs, labels)\n",
    "\n",
    "        optimizer.zero_grad()\n",
    "        loss.backward()\n",
    "        optimizer.step()\n",
    "\n",
    "    print(\"Epoch: %d, Loss: %f\" % (epoch, float(loss)))"
   ]
  },
  {
   "cell_type": "code",
   "execution_count": 37,
   "metadata": {},
   "outputs": [
    {
     "name": "stdout",
     "output_type": "stream",
     "text": [
      "Accuracy: 0.997700\n"
     ]
    }
   ],
   "source": [
    "train_loader = torch.utils.data.DataLoader(cifar2, batch_size=64,\n",
    "                                           shuffle=False)\n",
    "\n",
    "correct = 0\n",
    "total = 0\n",
    "\n",
    "with torch.no_grad():\n",
    "    for imgs, labels in train_loader:\n",
    "        outputs = model(imgs.view(imgs.shape[0], -1))\n",
    "        _, predicted = torch.max(outputs, dim=1)\n",
    "        total += labels.shape[0]\n",
    "        correct += int((predicted == labels).sum())\n",
    "        \n",
    "print(\"Accuracy: %f\" % (correct / total))"
   ]
  },
  {
   "cell_type": "code",
   "execution_count": 38,
   "metadata": {},
   "outputs": [
    {
     "name": "stdout",
     "output_type": "stream",
     "text": [
      "Accuracy: 0.821000\n"
     ]
    }
   ],
   "source": [
    "val_loader = torch.utils.data.DataLoader(cifar2_val, batch_size=64,\n",
    "                                         shuffle=False)\n",
    "\n",
    "correct = 0\n",
    "total = 0\n",
    "\n",
    "with torch.no_grad():\n",
    "    for imgs, labels in val_loader:\n",
    "        outputs = model(imgs.view(imgs.shape[0], -1))\n",
    "        _, predicted = torch.max(outputs, dim=1)\n",
    "        total += labels.shape[0]\n",
    "        correct += int((predicted == labels).sum())\n",
    "        \n",
    "print(\"Accuracy: %f\" % (correct / total))"
   ]
  },
  {
   "cell_type": "code",
   "execution_count": 39,
   "metadata": {},
   "outputs": [],
   "source": [
    "model = nn.Sequential(\n",
    "            nn.Linear(3072, 1024),\n",
    "            nn.Tanh(),\n",
    "            nn.Linear(1024, 512),\n",
    "            nn.Tanh(),\n",
    "            nn.Linear(512, 128),\n",
    "            nn.Tanh(),\n",
    "            nn.Linear(128, 2),\n",
    "            nn.LogSoftmax(dim=1))"
   ]
  },
  {
   "cell_type": "code",
   "execution_count": 40,
   "metadata": {},
   "outputs": [],
   "source": [
    "model = nn.Sequential(\n",
    "            nn.Linear(3072, 1024),\n",
    "            nn.Tanh(),\n",
    "            nn.Linear(1024, 512),\n",
    "            nn.Tanh(),\n",
    "            nn.Linear(512, 128),\n",
    "            nn.Tanh(),\n",
    "            nn.Linear(128, 2))\n",
    "\n",
    "loss_fn = nn.CrossEntropyLoss()"
   ]
  },
  {
   "cell_type": "code",
   "execution_count": 41,
   "metadata": {},
   "outputs": [
    {
     "name": "stdout",
     "output_type": "stream",
     "text": [
      "Epoch: 0, Loss: 0.641261\n",
      "Epoch: 1, Loss: 0.525149\n",
      "Epoch: 2, Loss: 0.466143\n",
      "Epoch: 3, Loss: 0.451913\n",
      "Epoch: 4, Loss: 0.343860\n",
      "Epoch: 5, Loss: 0.309738\n",
      "Epoch: 6, Loss: 0.485261\n",
      "Epoch: 7, Loss: 0.283789\n",
      "Epoch: 8, Loss: 0.301561\n",
      "Epoch: 9, Loss: 0.408200\n",
      "Epoch: 10, Loss: 0.346715\n",
      "Epoch: 11, Loss: 0.358134\n",
      "Epoch: 12, Loss: 0.388485\n",
      "Epoch: 13, Loss: 0.378096\n",
      "Epoch: 14, Loss: 0.518019\n",
      "Epoch: 15, Loss: 0.359279\n",
      "Epoch: 16, Loss: 0.420371\n",
      "Epoch: 17, Loss: 0.366249\n",
      "Epoch: 18, Loss: 0.282639\n",
      "Epoch: 19, Loss: 0.468854\n",
      "Epoch: 20, Loss: 0.467920\n",
      "Epoch: 21, Loss: 0.237441\n",
      "Epoch: 22, Loss: 0.243472\n",
      "Epoch: 23, Loss: 0.566929\n",
      "Epoch: 24, Loss: 0.316143\n",
      "Epoch: 25, Loss: 0.336322\n",
      "Epoch: 26, Loss: 0.473064\n",
      "Epoch: 27, Loss: 0.407040\n",
      "Epoch: 28, Loss: 0.252989\n",
      "Epoch: 29, Loss: 0.195740\n",
      "Epoch: 30, Loss: 0.663084\n",
      "Epoch: 31, Loss: 0.659899\n",
      "Epoch: 32, Loss: 0.285113\n",
      "Epoch: 33, Loss: 0.212042\n",
      "Epoch: 34, Loss: 0.324017\n",
      "Epoch: 35, Loss: 0.097063\n",
      "Epoch: 36, Loss: 0.181754\n",
      "Epoch: 37, Loss: 0.091362\n",
      "Epoch: 38, Loss: 0.069348\n",
      "Epoch: 39, Loss: 0.085656\n",
      "Epoch: 40, Loss: 0.163399\n",
      "Epoch: 41, Loss: 0.064912\n",
      "Epoch: 42, Loss: 0.046740\n",
      "Epoch: 43, Loss: 0.029891\n",
      "Epoch: 44, Loss: 0.018157\n",
      "Epoch: 45, Loss: 0.103532\n",
      "Epoch: 46, Loss: 0.161911\n",
      "Epoch: 47, Loss: 0.238185\n",
      "Epoch: 48, Loss: 0.081116\n",
      "Epoch: 49, Loss: 0.040988\n",
      "Epoch: 50, Loss: 0.008668\n",
      "Epoch: 51, Loss: 0.012557\n",
      "Epoch: 52, Loss: 0.015967\n",
      "Epoch: 53, Loss: 0.020964\n",
      "Epoch: 54, Loss: 0.023478\n",
      "Epoch: 55, Loss: 0.012850\n",
      "Epoch: 56, Loss: 0.054703\n",
      "Epoch: 57, Loss: 0.014922\n",
      "Epoch: 58, Loss: 0.045488\n",
      "Epoch: 59, Loss: 0.122221\n",
      "Epoch: 60, Loss: 0.028012\n",
      "Epoch: 61, Loss: 0.029533\n",
      "Epoch: 62, Loss: 0.004758\n",
      "Epoch: 63, Loss: 0.080409\n",
      "Epoch: 64, Loss: 0.005409\n",
      "Epoch: 65, Loss: 0.020399\n",
      "Epoch: 66, Loss: 0.008184\n",
      "Epoch: 67, Loss: 0.013888\n",
      "Epoch: 68, Loss: 0.002199\n",
      "Epoch: 69, Loss: 0.001918\n",
      "Epoch: 70, Loss: 0.018765\n",
      "Epoch: 71, Loss: 0.004223\n",
      "Epoch: 72, Loss: 0.001795\n",
      "Epoch: 73, Loss: 0.102238\n",
      "Epoch: 74, Loss: 0.002482\n",
      "Epoch: 75, Loss: 0.005807\n",
      "Epoch: 76, Loss: 0.001742\n",
      "Epoch: 77, Loss: 0.012760\n",
      "Epoch: 78, Loss: 0.017469\n",
      "Epoch: 79, Loss: 0.002849\n",
      "Epoch: 80, Loss: 0.001452\n",
      "Epoch: 81, Loss: 0.002740\n",
      "Epoch: 82, Loss: 0.003317\n",
      "Epoch: 83, Loss: 0.002066\n",
      "Epoch: 84, Loss: 0.001952\n",
      "Epoch: 85, Loss: 0.010757\n",
      "Epoch: 86, Loss: 0.004866\n",
      "Epoch: 87, Loss: 0.003957\n",
      "Epoch: 88, Loss: 0.001295\n",
      "Epoch: 89, Loss: 0.004410\n",
      "Epoch: 90, Loss: 0.002952\n",
      "Epoch: 91, Loss: 0.000676\n",
      "Epoch: 92, Loss: 0.001835\n",
      "Epoch: 93, Loss: 0.000739\n",
      "Epoch: 94, Loss: 0.001102\n",
      "Epoch: 95, Loss: 0.000792\n",
      "Epoch: 96, Loss: 0.000515\n",
      "Epoch: 97, Loss: 0.001548\n",
      "Epoch: 98, Loss: 0.026913\n",
      "Epoch: 99, Loss: 0.000140\n"
     ]
    }
   ],
   "source": [
    "import torch\n",
    "import torch.nn as nn\n",
    "import torch.optim as optim\n",
    "\n",
    "train_loader = torch.utils.data.DataLoader(cifar2, batch_size=64,\n",
    "                                           shuffle=True)\n",
    "\n",
    "model = nn.Sequential(\n",
    "            nn.Linear(3072, 1024),\n",
    "            nn.Tanh(),\n",
    "            nn.Linear(1024, 512),\n",
    "            nn.Tanh(),\n",
    "            nn.Linear(512, 128),\n",
    "            nn.Tanh(),\n",
    "            nn.Linear(128, 2))\n",
    "\n",
    "learning_rate = 1e-2\n",
    "\n",
    "optimizer = optim.SGD(model.parameters(), lr=learning_rate)\n",
    "\n",
    "loss_fn = nn.CrossEntropyLoss()\n",
    "\n",
    "n_epochs = 100\n",
    "\n",
    "for epoch in range(n_epochs):\n",
    "    for imgs, labels in train_loader:\n",
    "        outputs = model(imgs.view(imgs.shape[0], -1))\n",
    "        loss = loss_fn(outputs, labels)\n",
    "\n",
    "        optimizer.zero_grad()\n",
    "        loss.backward()\n",
    "        optimizer.step()\n",
    "\n",
    "    print(\"Epoch: %d, Loss: %f\" % (epoch, float(loss)))"
   ]
  },
  {
   "cell_type": "code",
   "execution_count": 42,
   "metadata": {},
   "outputs": [
    {
     "name": "stdout",
     "output_type": "stream",
     "text": [
      "Accuracy: 0.999700\n"
     ]
    }
   ],
   "source": [
    "train_loader = torch.utils.data.DataLoader(cifar2, batch_size=64,\n",
    "                                           shuffle=False)\n",
    "\n",
    "correct = 0\n",
    "total = 0\n",
    "\n",
    "with torch.no_grad():\n",
    "    for imgs, labels in train_loader:\n",
    "        outputs = model(imgs.view(imgs.shape[0], -1))\n",
    "        _, predicted = torch.max(outputs, dim=1)\n",
    "        total += labels.shape[0]\n",
    "        correct += int((predicted == labels).sum())\n",
    "        \n",
    "print(\"Accuracy: %f\" % (correct / total))"
   ]
  },
  {
   "cell_type": "code",
   "execution_count": 43,
   "metadata": {},
   "outputs": [
    {
     "name": "stdout",
     "output_type": "stream",
     "text": [
      "Accuracy: 0.801000\n"
     ]
    }
   ],
   "source": [
    "val_loader = torch.utils.data.DataLoader(cifar2_val, batch_size=64,\n",
    "                                         shuffle=False)\n",
    "\n",
    "correct = 0\n",
    "total = 0\n",
    "\n",
    "with torch.no_grad():\n",
    "    for imgs, labels in val_loader:\n",
    "        outputs = model(imgs.view(imgs.shape[0], -1))\n",
    "        _, predicted = torch.max(outputs, dim=1)\n",
    "        total += labels.shape[0]\n",
    "        correct += int((predicted == labels).sum())\n",
    "        \n",
    "print(\"Accuracy: %f\" % (correct / total))"
   ]
  },
  {
   "cell_type": "code",
   "execution_count": 44,
   "metadata": {},
   "outputs": [
    {
     "data": {
      "text/plain": [
       "3737474"
      ]
     },
     "execution_count": 44,
     "metadata": {},
     "output_type": "execute_result"
    }
   ],
   "source": [
    "sum([p.numel() for p in model.parameters()])"
   ]
  },
  {
   "cell_type": "code",
   "execution_count": 45,
   "metadata": {},
   "outputs": [
    {
     "data": {
      "text/plain": [
       "3737474"
      ]
     },
     "execution_count": 45,
     "metadata": {},
     "output_type": "execute_result"
    }
   ],
   "source": [
    "sum([p.numel() for p in model.parameters() if p.requires_grad == True])"
   ]
  },
  {
   "cell_type": "code",
   "execution_count": 46,
   "metadata": {},
   "outputs": [
    {
     "data": {
      "text/plain": [
       "1574402"
      ]
     },
     "execution_count": 46,
     "metadata": {},
     "output_type": "execute_result"
    }
   ],
   "source": [
    "first_model = nn.Sequential(\n",
    "                nn.Linear(3072, 512),\n",
    "                nn.Tanh(),\n",
    "                nn.Linear(512, 2),\n",
    "                nn.LogSoftmax(dim=1))\n",
    "\n",
    "sum([p.numel() for p in first_model.parameters()])"
   ]
  },
  {
   "cell_type": "code",
   "execution_count": 47,
   "metadata": {},
   "outputs": [
    {
     "data": {
      "text/plain": [
       "1573376"
      ]
     },
     "execution_count": 47,
     "metadata": {},
     "output_type": "execute_result"
    }
   ],
   "source": [
    "sum([p.numel() for p in nn.Linear(3072, 512).parameters()])"
   ]
  },
  {
   "cell_type": "code",
   "execution_count": 48,
   "metadata": {},
   "outputs": [
    {
     "data": {
      "text/plain": [
       "3146752"
      ]
     },
     "execution_count": 48,
     "metadata": {},
     "output_type": "execute_result"
    }
   ],
   "source": [
    "sum([p.numel() for p in nn.Linear(3072, 1024).parameters()])"
   ]
  },
  {
   "cell_type": "code",
   "execution_count": 49,
   "metadata": {},
   "outputs": [
    {
     "data": {
      "text/plain": [
       "(torch.Size([1024, 3072]), torch.Size([1024]))"
      ]
     },
     "execution_count": 49,
     "metadata": {},
     "output_type": "execute_result"
    }
   ],
   "source": [
    "linear = nn.Linear(3072, 1024)\n",
    "\n",
    "linear.weight.shape, linear.bias.shape"
   ]
  },
  {
   "cell_type": "code",
   "execution_count": 50,
   "metadata": {},
   "outputs": [],
   "source": [
    "conv = nn.Conv2d(3, 16, kernel_size=3)"
   ]
  },
  {
   "cell_type": "code",
   "execution_count": 51,
   "metadata": {},
   "outputs": [
    {
     "data": {
      "text/plain": [
       "torch.Size([16, 3, 3, 3])"
      ]
     },
     "execution_count": 51,
     "metadata": {},
     "output_type": "execute_result"
    }
   ],
   "source": [
    "conv.weight.shape"
   ]
  },
  {
   "cell_type": "code",
   "execution_count": 52,
   "metadata": {},
   "outputs": [
    {
     "data": {
      "text/plain": [
       "torch.Size([16])"
      ]
     },
     "execution_count": 52,
     "metadata": {},
     "output_type": "execute_result"
    }
   ],
   "source": [
    "conv.bias.shape"
   ]
  },
  {
   "cell_type": "code",
   "execution_count": 53,
   "metadata": {},
   "outputs": [],
   "source": [
    "img, _ = cifar2[0]\n",
    "\n",
    "output = conv(img.unsqueeze(0))"
   ]
  },
  {
   "cell_type": "code",
   "execution_count": 54,
   "metadata": {},
   "outputs": [
    {
     "data": {
      "text/plain": [
       "(torch.Size([1, 3, 32, 32]), torch.Size([1, 16, 30, 30]))"
      ]
     },
     "execution_count": 54,
     "metadata": {},
     "output_type": "execute_result"
    }
   ],
   "source": [
    "img.unsqueeze(0).shape, output.shape"
   ]
  },
  {
   "cell_type": "code",
   "execution_count": 55,
   "metadata": {},
   "outputs": [
    {
     "name": "stderr",
     "output_type": "stream",
     "text": [
      "Clipping input data to the valid range for imshow with RGB data ([0..1] for floats or [0..255] for integers).\n"
     ]
    },
    {
     "data": {
      "image/png": "[encoded data removed]",
      "text/plain": [
       "<Figure size 432x288 with 1 Axes>"
      ]
     },
     "metadata": {
      "needs_background": "light"
     },
     "output_type": "display_data"
    }
   ],
   "source": [
    "plt.imshow(img.permute(1, 2, 0), cmap='gray')\n",
    "plt.show()"
   ]
  },
  {
   "cell_type": "code",
   "execution_count": 56,
   "metadata": {},
   "outputs": [
    {
     "data": {
      "image/png": "[encoded data removed]",
      "text/plain": [
       "<Figure size 432x288 with 1 Axes>"
      ]
     },
     "metadata": {
      "needs_background": "light"
     },
     "output_type": "display_data"
    }
   ],
   "source": [
    "plt.imshow(output[0, 0].detach(), cmap='gray')\n",
    "plt.show()"
   ]
  },
  {
   "cell_type": "code",
   "execution_count": 57,
   "metadata": {},
   "outputs": [
    {
     "data": {
      "text/plain": [
       "torch.Size([1, 16, 30, 30])"
      ]
     },
     "execution_count": 57,
     "metadata": {},
     "output_type": "execute_result"
    }
   ],
   "source": [
    "output.shape"
   ]
  },
  {
   "cell_type": "code",
   "execution_count": 58,
   "metadata": {},
   "outputs": [],
   "source": [
    "conv = nn.Conv2d(3, 1, kernel_size=3, padding=1)"
   ]
  },
  {
   "cell_type": "code",
   "execution_count": 59,
   "metadata": {},
   "outputs": [
    {
     "data": {
      "text/plain": [
       "torch.Size([1, 1, 32, 32])"
      ]
     },
     "execution_count": 59,
     "metadata": {},
     "output_type": "execute_result"
    }
   ],
   "source": [
    "output = conv(img.unsqueeze(0))\n",
    "\n",
    "output.shape"
   ]
  },
  {
   "cell_type": "code",
   "execution_count": 60,
   "metadata": {},
   "outputs": [],
   "source": [
    "with torch.no_grad():\n",
    "    conv.bias.zero_()"
   ]
  },
  {
   "cell_type": "code",
   "execution_count": 61,
   "metadata": {},
   "outputs": [],
   "source": [
    "with torch.no_grad():\n",
    "    conv.weight.fill_(1.0 / 9.0)"
   ]
  },
  {
   "cell_type": "code",
   "execution_count": 62,
   "metadata": {},
   "outputs": [
    {
     "data": {
      "image/png": "[encoded data removed]",
      "text/plain": [
       "<Figure size 432x288 with 1 Axes>"
      ]
     },
     "metadata": {
      "needs_background": "light"
     },
     "output_type": "display_data"
    }
   ],
   "source": [
    "output = conv(img.unsqueeze(0))\n",
    "plt.imshow(output[0, 0].detach(), cmap='gray')\n",
    "plt.show()"
   ]
  },
  {
   "cell_type": "code",
   "execution_count": 63,
   "metadata": {},
   "outputs": [],
   "source": [
    "conv = nn.Conv2d(3, 1, kernel_size=3, padding=1)\n",
    "\n",
    "with torch.no_grad():\n",
    "    conv.weight[:] = torch.tensor([[-1.0, 0.0, 1.0],\n",
    "                                   [-1.0, 0.0, 1.0],\n",
    "                                   [-1.0, 0.0, 1.0]])\n",
    "    conv.bias.zero_()"
   ]
  },
  {
   "cell_type": "code",
   "execution_count": 64,
   "metadata": {},
   "outputs": [
    {
     "data": {
      "image/png": "[encoded data removed]",
      "text/plain": [
       "<Figure size 432x288 with 1 Axes>"
      ]
     },
     "metadata": {
      "needs_background": "light"
     },
     "output_type": "display_data"
    }
   ],
   "source": [
    "output = conv(img.unsqueeze(0))\n",
    "plt.imshow(output[0, 0].detach(), cmap='gray')\n",
    "plt.show()"
   ]
  },
  {
   "cell_type": "code",
   "execution_count": 65,
   "metadata": {},
   "outputs": [],
   "source": [
    "pool = nn.MaxPool2d(2)"
   ]
  },
  {
   "cell_type": "code",
   "execution_count": 66,
   "metadata": {},
   "outputs": [
    {
     "data": {
      "text/plain": [
       "torch.Size([1, 3, 16, 16])"
      ]
     },
     "execution_count": 66,
     "metadata": {},
     "output_type": "execute_result"
    }
   ],
   "source": [
    "output = pool(img.unsqueeze(0))\n",
    "\n",
    "output.shape"
   ]
  },
  {
   "cell_type": "code",
   "execution_count": 67,
   "metadata": {},
   "outputs": [
    {
     "ename": "TypeError",
     "evalue": "ellipsis is not a Module subclass",
     "output_type": "error",
     "traceback": [
      "\u001b[1;31m---------------------------------------------------------------------------\u001b[0m",
      "\u001b[1;31mTypeError\u001b[0m                                 Traceback (most recent call last)",
      "\u001b[1;32m<ipython-input-67-94807a3b1438>\u001b[0m in \u001b[0;36m<module>\u001b[1;34m\u001b[0m\n\u001b[0;32m      6\u001b[0m             \u001b[0mnn\u001b[0m\u001b[1;33m.\u001b[0m\u001b[0mTanh\u001b[0m\u001b[1;33m(\u001b[0m\u001b[1;33m)\u001b[0m\u001b[1;33m,\u001b[0m\u001b[1;33m\u001b[0m\u001b[0m\n\u001b[0;32m      7\u001b[0m             \u001b[0mnn\u001b[0m\u001b[1;33m.\u001b[0m\u001b[0mMaxPool2d\u001b[0m\u001b[1;33m(\u001b[0m\u001b[1;36m2\u001b[0m\u001b[1;33m)\u001b[0m\u001b[1;33m,\u001b[0m\u001b[1;33m\u001b[0m\u001b[0m\n\u001b[1;32m----> 8\u001b[1;33m             ...)\n\u001b[0m",
      "\u001b[1;32m~\\Miniconda3\\envs\\book\\lib\\site-packages\\torch\\nn\\modules\\container.py\u001b[0m in \u001b[0;36m__init__\u001b[1;34m(self, *args)\u001b[0m\n\u001b[0;32m     51\u001b[0m         \u001b[1;32melse\u001b[0m\u001b[1;33m:\u001b[0m\u001b[1;33m\u001b[0m\u001b[0m\n\u001b[0;32m     52\u001b[0m             \u001b[1;32mfor\u001b[0m \u001b[0midx\u001b[0m\u001b[1;33m,\u001b[0m \u001b[0mmodule\u001b[0m \u001b[1;32min\u001b[0m \u001b[0menumerate\u001b[0m\u001b[1;33m(\u001b[0m\u001b[0margs\u001b[0m\u001b[1;33m)\u001b[0m\u001b[1;33m:\u001b[0m\u001b[1;33m\u001b[0m\u001b[0m\n\u001b[1;32m---> 53\u001b[1;33m                 \u001b[0mself\u001b[0m\u001b[1;33m.\u001b[0m\u001b[0madd_module\u001b[0m\u001b[1;33m(\u001b[0m\u001b[0mstr\u001b[0m\u001b[1;33m(\u001b[0m\u001b[0midx\u001b[0m\u001b[1;33m)\u001b[0m\u001b[1;33m,\u001b[0m \u001b[0mmodule\u001b[0m\u001b[1;33m)\u001b[0m\u001b[1;33m\u001b[0m\u001b[0m\n\u001b[0m\u001b[0;32m     54\u001b[0m \u001b[1;33m\u001b[0m\u001b[0m\n\u001b[0;32m     55\u001b[0m     \u001b[1;32mdef\u001b[0m \u001b[0m_get_item_by_idx\u001b[0m\u001b[1;33m(\u001b[0m\u001b[0mself\u001b[0m\u001b[1;33m,\u001b[0m \u001b[0miterator\u001b[0m\u001b[1;33m,\u001b[0m \u001b[0midx\u001b[0m\u001b[1;33m)\u001b[0m\u001b[1;33m:\u001b[0m\u001b[1;33m\u001b[0m\u001b[0m\n",
      "\u001b[1;32m~\\Miniconda3\\envs\\book\\lib\\site-packages\\torch\\nn\\modules\\module.py\u001b[0m in \u001b[0;36madd_module\u001b[1;34m(self, name, module)\u001b[0m\n\u001b[0;32m    171\u001b[0m         \u001b[1;32mif\u001b[0m \u001b[1;32mnot\u001b[0m \u001b[0misinstance\u001b[0m\u001b[1;33m(\u001b[0m\u001b[0mmodule\u001b[0m\u001b[1;33m,\u001b[0m \u001b[0mModule\u001b[0m\u001b[1;33m)\u001b[0m \u001b[1;32mand\u001b[0m \u001b[0mmodule\u001b[0m \u001b[1;32mis\u001b[0m \u001b[1;32mnot\u001b[0m \u001b[1;32mNone\u001b[0m\u001b[1;33m:\u001b[0m\u001b[1;33m\u001b[0m\u001b[0m\n\u001b[0;32m    172\u001b[0m             raise TypeError(\"{} is not a Module subclass\".format(\n\u001b[1;32m--> 173\u001b[1;33m                 torch.typename(module)))\n\u001b[0m\u001b[0;32m    174\u001b[0m         \u001b[1;32melif\u001b[0m \u001b[1;32mnot\u001b[0m \u001b[0misinstance\u001b[0m\u001b[1;33m(\u001b[0m\u001b[0mname\u001b[0m\u001b[1;33m,\u001b[0m \u001b[0mtorch\u001b[0m\u001b[1;33m.\u001b[0m\u001b[0m_six\u001b[0m\u001b[1;33m.\u001b[0m\u001b[0mstring_classes\u001b[0m\u001b[1;33m)\u001b[0m\u001b[1;33m:\u001b[0m\u001b[1;33m\u001b[0m\u001b[0m\n\u001b[0;32m    175\u001b[0m             raise TypeError(\"module name should be a string. Got {}\".format(\n",
      "\u001b[1;31mTypeError\u001b[0m: ellipsis is not a Module subclass"
     ]
    }
   ],
   "source": [
    "model = nn.Sequential(\n",
    "            nn.Conv2d(3, 16, kernel_size=3, padding=1),\n",
    "            nn.Tanh(),\n",
    "            nn.MaxPool2d(2),\n",
    "            nn.Conv2d(16, 8, kernel_size=3, padding=1),\n",
    "            nn.Tanh(),\n",
    "            nn.MaxPool2d(2),\n",
    "            ...)"
   ]
  },
  {
   "cell_type": "code",
   "execution_count": null,
   "metadata": {},
   "outputs": [],
   "source": [
    "model = nn.Sequential(\n",
    "            nn.Conv2d(3, 16, kernel_size=3, padding=1),\n",
    "            nn.Tanh(),\n",
    "            nn.MaxPool2d(2),\n",
    "            nn.Conv2d(16, 8, kernel_size=3, padding=1),\n",
    "            nn.Tanh(),\n",
    "            nn.MaxPool2d(2),\n",
    "            # WARNING: something missing here\n",
    "            nn.Linear(512, 32),\n",
    "            nn.Tanh(),\n",
    "            nn.Linear(32, 2))"
   ]
  },
  {
   "cell_type": "code",
   "execution_count": null,
   "metadata": {},
   "outputs": [],
   "source": [
    "sum([p.numel() for p in model.parameters()])"
   ]
  },
  {
   "cell_type": "code",
   "execution_count": null,
   "metadata": {},
   "outputs": [],
   "source": [
    "model(img.unsqueeze(0))"
   ]
  },
  {
   "cell_type": "code",
   "execution_count": null,
   "metadata": {},
   "outputs": [],
   "source": [
    "class Net(nn.Module):\n",
    "    def __init__(self):\n",
    "        super(Net, self).__init__()\n",
    "        self.conv1 = nn.Conv2d(3, 16, kernel_size=3, padding=1)\n",
    "        self.act1 = nn.Tanh()\n",
    "        self.pool1 = nn.MaxPool2d(2)\n",
    "        self.conv2 = nn.Conv2d(16, 8, kernel_size=3, padding=1)\n",
    "        self.act2 = nn.Tanh()\n",
    "        self.pool2 = nn.MaxPool2d(2)\n",
    "        self.fc1 = nn.Linear(8 * 8 * 8, 32)\n",
    "        self.act4 = nn.Tanh()\n",
    "        self.fc2 = nn.Linear(32, 2)\n",
    "\n",
    "    def forward(self, x):\n",
    "        out = self.pool1(self.act1(self.conv1(x)))\n",
    "        out = self.pool2(self.act2(self.conv2(out)))\n",
    "        out = out.view(-1, 8 * 8 * 8)\n",
    "        out = self.act4(self.fc1(out))\n",
    "        out = self.fc2(out)\n",
    "        return out"
   ]
  },
  {
   "cell_type": "code",
   "execution_count": null,
   "metadata": {},
   "outputs": [],
   "source": [
    "model = Net()\n",
    "\n",
    "sum([p.numel() for p in model.parameters()])"
   ]
  },
  {
   "cell_type": "code",
   "execution_count": null,
   "metadata": {},
   "outputs": [],
   "source": [
    "import torch.nn.functional as F\n",
    "\n",
    "class Net(nn.Module):\n",
    "    def __init__(self):\n",
    "        super(Net, self).__init__()\n",
    "        self.conv1 = nn.Conv2d(3, 16, kernel_size=3, padding=1)\n",
    "        self.conv2 = nn.Conv2d(16, 8, kernel_size=3, padding=1)\n",
    "        self.fc1 = nn.Linear(8 * 8 * 8, 32)\n",
    "        self.fc2 = nn.Linear(32, 2)\n",
    "        \n",
    "    def forward(self, x):\n",
    "        out = F.max_pool2d(torch.tanh(self.conv1(x)), 2)\n",
    "        out = F.max_pool2d(torch.tanh(self.conv2(out)), 2)\n",
    "        out = out.view(-1, 8 * 8 * 8)\n",
    "        out = torch.tanh(self.fc1(out))\n",
    "        out = self.fc2(out)\n",
    "        return out"
   ]
  },
  {
   "cell_type": "code",
   "execution_count": null,
   "metadata": {},
   "outputs": [],
   "source": [
    "model = Net()\n",
    "model(img.unsqueeze(0))"
   ]
  },
  {
   "cell_type": "code",
   "execution_count": null,
   "metadata": {},
   "outputs": [],
   "source": [
    "import torch\n",
    "import torch.nn as nn\n",
    "import torch.nn.functional as F\n",
    "\n",
    "train_loader = torch.utils.data.DataLoader(cifar2, batch_size=64,\n",
    "                                           shuffle=True)\n",
    "\n",
    "class Net(nn.Module):\n",
    "    def __init__(self):\n",
    "        super(Net, self).__init__()\n",
    "        self.conv1 = nn.Conv2d(3, 16, kernel_size=3, padding=1)\n",
    "        self.conv2 = nn.Conv2d(16, 8, kernel_size=3, padding=1)\n",
    "        self.fc1 = nn.Linear(8 * 8 * 8, 32)\n",
    "        self.fc2 = nn.Linear(32, 2)\n",
    "        \n",
    "    def forward(self, x):\n",
    "        out = F.max_pool2d(torch.relu(self.conv1(x)), 2)\n",
    "        out = F.max_pool2d(torch.relu(self.conv2(out)), 2)\n",
    "        out = out.view(-1, 8 * 8 * 8)\n",
    "        out = torch.tanh(self.fc1(out))\n",
    "        out = self.fc2(out)\n",
    "        return out\n",
    "    \n",
    "model = Net()\n",
    "\n",
    "learning_rate = 1e-2\n",
    "\n",
    "optimizer = optim.SGD(model.parameters(), lr=learning_rate)\n",
    "\n",
    "loss_fn = nn.CrossEntropyLoss()\n",
    "\n",
    "n_epochs = 100\n",
    "\n",
    "for epoch in range(n_epochs):\n",
    "    for imgs, labels in train_loader:\n",
    "        outputs = model(imgs)\n",
    "        loss = loss_fn(outputs, labels)\n",
    "                \n",
    "        optimizer.zero_grad()\n",
    "        loss.backward()\n",
    "        optimizer.step()\n",
    "\n",
    "    print(\"Epoch: %d, Loss: %f\" % (epoch, float(loss)))"
   ]
  },
  {
   "cell_type": "code",
   "execution_count": null,
   "metadata": {},
   "outputs": [],
   "source": [
    "train_loader = torch.utils.data.DataLoader(cifar2, batch_size=64,\n",
    "                                           shuffle=False)\n",
    "\n",
    "correct = 0\n",
    "total = 0\n",
    "\n",
    "with torch.no_grad():\n",
    "    for imgs, labels in train_loader:\n",
    "        outputs = model(imgs)\n",
    "        _, predicted = torch.max(outputs, dim=1)\n",
    "        total += labels.shape[0]\n",
    "        correct += int((predicted == labels).sum())\n",
    "        \n",
    "print(\"Accuracy: %f\" % (correct / total))"
   ]
  },
  {
   "cell_type": "code",
   "execution_count": null,
   "metadata": {},
   "outputs": [],
   "source": [
    "val_loader = torch.utils.data.DataLoader(cifar2_val, batch_size=64,\n",
    "                                         shuffle=False)\n",
    "\n",
    "correct = 0\n",
    "total = 0\n",
    "\n",
    "with torch.no_grad():\n",
    "    for imgs, labels in val_loader:\n",
    "        outputs = model(imgs)\n",
    "        _, predicted = torch.max(outputs, dim=1)\n",
    "        total += labels.shape[0]\n",
    "        correct += int((predicted == labels).sum())\n",
    "        \n",
    "print(\"Accuracy: %f\" % (correct / total))"
   ]
  },
  {
   "cell_type": "code",
   "execution_count": null,
   "metadata": {},
   "outputs": [],
   "source": [
    "import torch\n",
    "import torch.nn as nn\n",
    "import torch.nn.functional as F\n",
    "\n",
    "class Net(nn.Module):\n",
    "    def __init__(self):\n",
    "        super(Net, self).__init__()\n",
    "        self.conv1 = nn.Conv2d(3, 16, kernel_size=3, padding=1)\n",
    "        self.conv2 = nn.Conv2d(16, 8, kernel_size=3, padding=1)\n",
    "        self.fc1 = nn.Linear(8 * 8 * 8, 32)\n",
    "        self.fc2 = nn.Linear(32, 2)\n",
    "        \n",
    "    def forward(self, x):\n",
    "        out = F.max_pool2d(torch.relu(self.conv1(x)), 2)\n",
    "        out = F.max_pool2d(torch.relu(self.conv2(out)), 2)\n",
    "        out = out.view(-1, 8 * 8 * 8)\n",
    "        out = torch.tanh(self.fc1(out))\n",
    "        out = self.fc2(out)\n",
    "        return out\n",
    "    \n",
    "model = Net()\n",
    "sum([p.numel() for p in model.parameters()])"
   ]
  },
  {
   "cell_type": "code",
   "execution_count": null,
   "metadata": {},
   "outputs": [],
   "source": [
    "model = nn.Sequential(\n",
    "            nn.Conv2d(3, 16, kernel_size=3, padding=1),\n",
    "            nn.Tanh(),\n",
    "            nn.MaxPool2d(2),\n",
    "            nn.Conv2d(16, 8, kernel_size=3, padding=1),\n",
    "            nn.Tanh(),\n",
    "            nn.MaxPool2d(2),\n",
    "            nn.Linear(8*8*8, 32),\n",
    "            nn.Tanh(),\n",
    "            nn.Linear(32, 2))\n",
    "\n",
    "model(img.unsqueeze(0))"
   ]
  }
 ],
 "metadata": {
  "kernelspec": {
   "display_name": "Python 3",
   "language": "python",
   "name": "python3"
  },
  "language_info": {
   "codemirror_mode": {
    "name": "ipython",
    "version": 3
   },
   "file_extension": ".py",
   "mimetype": "text/x-python",
   "name": "python",
   "nbconvert_exporter": "python",
   "pygments_lexer": "ipython3",
   "version": "3.8.3-final"
  }
 },
 "nbformat": 4,
 "nbformat_minor": 2
}