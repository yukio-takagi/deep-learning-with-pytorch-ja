{
  "nbformat": 4,
  "nbformat_minor": 0,
  "metadata": {
    "kernelspec": {
      "display_name": "Python 3",
      "language": "python",
      "name": "python3"
    },
    "language_info": {
      "codemirror_mode": {
        "name": "ipython",
        "version": 3
      },
      "file_extension": ".py",
      "mimetype": "text/x-python",
      "name": "python",
      "nbconvert_exporter": "python",
      "pygments_lexer": "ipython3",
      "version": "3.8.3-final"
    },
    "colab": {
      "name": "第5章_章末演習問題.ipynb",
      "provenance": [],
      "collapsed_sections": []
    }
  },
  "cells": [
    {
      "cell_type": "markdown",
      "metadata": {
        "id": "ut4StbHvH3YN"
      },
      "source": [
        "# [1] モデルをw2 * t_u ** 2 + w1 * t_u + bとして再定義してください\n",
        "※ ここではGoogle Colaraboratoryでの実行を想定しています。\n",
        "\n",
        "※ Google Colaraboratoryでbashコマンドを実行するには、命令の前に!をつけます。"
      ]
    },
    {
      "cell_type": "markdown",
      "metadata": {
        "id": "b33a9EQkH3YO"
      },
      "source": [
        "### （a）再定義を行うために、トレーニングループのどの部分を変更する必要がありますか？"
      ]
    },
    {
      "cell_type": "code",
      "metadata": {
        "id": "bVKxGlkUH3YP"
      },
      "source": [
        "# 回答\n",
        "# def modelを変更する\n",
        "def model(t_u, w2, w1, b):\n",
        "    return w2*t_u**2 + w1*t_u + b"
      ],
      "execution_count": 1,
      "outputs": []
    },
    {
      "cell_type": "code",
      "execution_count": 1,
      "metadata": {},
      "outputs": [],
      "source": [
        "## 上記によりパラメータも増えていることに注意！"
      ]
    },
    {
      "cell_type": "markdown",
      "metadata": {
        "id": "x4hbZxu_H3Yn"
      },
      "source": [
        "### （b）モデルが変更されたことを知り得ない部分はどこでしょうか？"
      ]
    },
    {
      "cell_type": "code",
      "metadata": {
        "id": "7TNVLtLHH3Yn"
      },
      "source": [
        "# 回答\n",
        "# loss function 以降の全て、optimizer もモデルを意識していない\n",
        "# optimizerも誤差関数の連鎖率を用いて微分（変化量）を測定しているに過ぎない"
      ],
      "execution_count": null,
      "outputs": []
    },
    {
      "cell_type": "markdown",
      "metadata": {
        "id": "BY9HnjFiH3Yr"
      },
      "source": [
        "### （c）訓練後にロスは高くなりますか、それとも低くなりますか？"
      ]
    },
    {
      "cell_type": "code",
      "metadata": {
        "id": "S9ym0m_TH3Ys"
      },
      "source": [
        "# 回答\n"
      ],
      "execution_count": 36,
      "outputs": []
    },
    {
      "cell_type": "markdown",
      "metadata": {
        "id": "Vum_8xjAH3Yw"
      },
      "source": [
        "###（d）結果は、本章の内容より良くなりますか、それとも悪くなりますか？"
      ]
    },
    {
      "cell_type": "code",
      "metadata": {
        "id": "0RvQFBtCH3Yx"
      },
      "source": [
        "# 回答"
      ],
      "execution_count": 38,
      "outputs": []
    }
  ]
}