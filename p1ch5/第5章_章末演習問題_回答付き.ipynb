{
  "nbformat": 4,
  "nbformat_minor": 0,
  "metadata": {
    "kernelspec": {
      "display_name": "Python 3",
      "language": "python",
      "name": "python3"
    },
    "language_info": {
      "codemirror_mode": {
        "name": "ipython",
        "version": 3
      },
      "file_extension": ".py",
      "mimetype": "text/x-python",
      "name": "python",
      "nbconvert_exporter": "python",
      "pygments_lexer": "ipython3",
      "version": "3.8.3-final"
    },
    "colab": {
      "name": "第5章_章末演習問題_回答付き.ipynb",
      "provenance": [],
      "collapsed_sections": []
    }
  },
  "cells": [
    {
      "cell_type": "markdown",
      "metadata": {
        "id": "ut4StbHvH3YN"
      },
      "source": [
        "# [1] モデルをw2 * t_u ** 2 + w1 * t_u + bとして再定義してください\n",
        "※ ここではGoogle Colaraboratoryでの実行を想定しています。\n",
        "\n",
        "※ Google Colaraboratoryでbashコマンドを実行するには、命令の前に!をつけます。"
      ]
    },
    {
      "cell_type": "markdown",
      "metadata": {
        "id": "b33a9EQkH3YO"
      },
      "source": [
        "### （a）再定義を行うために、トレーニングループのどの部分を変更する必要がありますか？"
      ]
    },
    {
      "cell_type": "code",
      "metadata": {
        "id": "bVKxGlkUH3YP"
      },
      "source": [
        "# 回答"
      ],
      "execution_count": 1,
      "outputs": []
    },
    {
      "cell_type": "code",
      "metadata": {
        "id": "w1fYbqNZIJ7n"
      },
      "source": [
        "# モデルの定義部分とモデルパラメータの定義部分"
      ],
      "execution_count": 2,
      "outputs": []
    },
    {
      "cell_type": "code",
      "metadata": {
        "id": "4b2GZhPZH3YT"
      },
      "source": [
        "import torch\n",
        "import torch.optim as optim\n",
        "import numpy as np"
      ],
      "execution_count": 1,
      "outputs": []
    },
    {
      "cell_type": "code",
      "metadata": {
        "id": "GqdkBaumH3YV"
      },
      "source": [
        "t_c = torch.tensor([0.5, 14.0, 15.0, 28.0, 11.0,\n",
        "                    8.0, 3.0, -4.0, 6.0, 13.0, 21.0])\n",
        "t_u = torch.tensor([35.7, 55.9, 58.2, 81.9, 56.3, 48.9,\n",
        "                    33.9, 21.8, 48.4, 60.4, 68.4])\n",
        "t_un = 0.1 * t_u"
      ],
      "execution_count": 2,
      "outputs": []
    },
    {
      "cell_type": "code",
      "metadata": {
        "id": "d4qVLaK5H3YY"
      },
      "source": [
        "def loss_fn(t_p, t_c):\n",
        "    squared_diffs = (t_p - t_c)**2\n",
        "    return squared_diffs.mean()"
      ],
      "execution_count": 3,
      "outputs": []
    },
    {
      "cell_type": "code",
      "metadata": {
        "id": "ruau9h7CH3Ya"
      },
      "source": [
        "# モデルの定義を変更\n",
        "def model(t_u, w1,w2, b):    \n",
        "    return w2 * t_u ** 2 + w1 * t_u +b"
      ],
      "execution_count": 4,
      "outputs": []
    },
    {
      "cell_type": "code",
      "metadata": {
        "id": "LAfOWovwH3Yc"
      },
      "source": [
        "# モデルパラメータの定義を変更\n",
        "params = torch.tensor([1.0, 1.0, 0.0], requires_grad=True)\n",
        "learning_rate = 1e-3\n",
        "optimizer = optim.SGD([params], lr=learning_rate)"
      ],
      "execution_count": 5,
      "outputs": []
    },
    {
      "cell_type": "code",
      "metadata": {
        "id": "rsYKqkjcH3Yf"
      },
      "source": [
        "n_samples = t_u.shape[0]\n",
        "n_val = int(0.2 * n_samples)\n",
        "\n",
        "shuffled_indices = torch.randperm(n_samples)\n",
        "\n",
        "train_indices = shuffled_indices[:-n_val]\n",
        "val_indices = shuffled_indices[-n_val:]\n",
        "\n",
        "\n",
        "train_t_u = t_u[train_indices]\n",
        "train_t_c = t_c[train_indices]\n",
        "\n",
        "val_t_u = t_u[val_indices]\n",
        "val_t_c = t_c[val_indices]\n",
        "\n",
        "train_t_un = 0.1 * train_t_u\n",
        "val_t_un = 0.1 * val_t_u"
      ],
      "execution_count": 6,
      "outputs": []
    },
    {
      "cell_type": "code",
      "metadata": {
        "id": "6vptwskZH3Yh"
      },
      "source": [
        "def training_loop(n_epochs, optimizer, params, train_t_u, val_t_u,\n",
        "                  train_t_c, val_t_c):\n",
        "    for epoch in range(1, n_epochs + 1):\n",
        "        train_t_p = model(train_t_u, *params)\n",
        "        train_loss = loss_fn(train_t_p, train_t_c)\n",
        "\n",
        "        with torch.no_grad(): # <1>\n",
        "            val_t_p = model(val_t_u, *params)\n",
        "            val_loss = loss_fn(val_t_p, val_t_c)\n",
        "            assert val_loss.requires_grad == False \n",
        "            \n",
        "        if epoch <= 3 or epoch % 500 == 0:\n",
        "            print(f\"Epoch {epoch}, Training loss {train_loss.item():.4f},\"\n",
        "                  f\" Validation loss {val_loss.item():.4f}\")\n",
        "            \n",
        "        optimizer.zero_grad()\n",
        "        train_loss.backward()\n",
        "        optimizer.step()"
      ],
      "execution_count": 10,
      "outputs": []
    },
    {
      "cell_type": "code",
      "metadata": {
        "id": "r9NXbSfXH3Yk",
        "outputId": "9bbc114f-dabd-4f7e-ebe3-94a066476d6a",
        "colab": {
          "base_uri": "https://localhost:8080/",
          "height": 175
        }
      },
      "source": [
        "training_loop(\n",
        "    n_epochs = 3000, \n",
        "    optimizer = optimizer,\n",
        "    params = params,\n",
        "    train_t_u = train_t_un, # <1> \n",
        "    val_t_u = val_t_un, # <1> \n",
        "    train_t_c = train_t_c,\n",
        "    val_t_c = val_t_c)\n",
        "\n",
        "# 注意：本セルの結果は、実行のたびに変化し、ときに学習が失敗します。"
      ],
      "execution_count": 12,
      "outputs": [
        {
          "output_type": "stream",
          "name": "stdout",
          "text": [
            "Epoch 1, Training loss nan, Validation loss nan\n",
            "Epoch 2, Training loss nan, Validation loss nan\n",
            "Epoch 3, Training loss nan, Validation loss nan\n",
            "Epoch 500, Training loss nan, Validation loss nan\n",
            "Epoch 1000, Training loss nan, Validation loss nan\n",
            "Epoch 1500, Training loss nan, Validation loss nan\n",
            "Epoch 2000, Training loss nan, Validation loss nan\n",
            "Epoch 2500, Training loss nan, Validation loss nan\n",
            "Epoch 3000, Training loss nan, Validation loss nan\n"
          ]
        }
      ]
    },
    {
      "cell_type": "markdown",
      "metadata": {
        "id": "x4hbZxu_H3Yn"
      },
      "source": [
        "### （b）モデルが変更されたことを知り得ない部分はどこでしょうか？"
      ]
    },
    {
      "cell_type": "code",
      "metadata": {
        "id": "7TNVLtLHH3Yn"
      },
      "source": [
        "# 回答"
      ],
      "execution_count": null,
      "outputs": []
    },
    {
      "cell_type": "code",
      "metadata": {
        "id": "WrnLUtIOH3Yp"
      },
      "source": [
        "# 例：（データセットの分割、前処理）とくに、lossの計算"
      ],
      "execution_count": 35,
      "outputs": []
    },
    {
      "cell_type": "markdown",
      "metadata": {
        "id": "BY9HnjFiH3Yr"
      },
      "source": [
        "### （c）訓練後にロスは高くなりますか、それとも低くなりますか？"
      ]
    },
    {
      "cell_type": "code",
      "metadata": {
        "id": "S9ym0m_TH3Ys"
      },
      "source": [
        "# 回答"
      ],
      "execution_count": 36,
      "outputs": []
    },
    {
      "cell_type": "code",
      "metadata": {
        "id": "z9Md-CD0H3Yu"
      },
      "source": [
        "# 低くなる。訓練とは損失関数の値（loss）を低下させるプロセスである。"
      ],
      "execution_count": 37,
      "outputs": []
    },
    {
      "cell_type": "markdown",
      "metadata": {
        "id": "Vum_8xjAH3Yw"
      },
      "source": [
        "###（d）結果は、本章の内容より良くなりますか、それとも悪くなりますか？"
      ]
    },
    {
      "cell_type": "code",
      "metadata": {
        "id": "0RvQFBtCH3Yx"
      },
      "source": [
        "# 回答"
      ],
      "execution_count": 38,
      "outputs": []
    },
    {
      "cell_type": "code",
      "metadata": {
        "id": "SjigaqbMH3Yz"
      },
      "source": [
        "# 検証データにおいて性能が低く、モデルの学習結果は悪くなる\n",
        "# 華氏から摂氏からへの変換式は、線形モデル：Tc = 0.56*Tf -17.78\n",
        "# のため、より複雑なモデル（今回は2乗項を含むモデル）でフィッティングした結果、過学習が発生している。\n",
        "\n",
        "# 本ノートブックの結果： Epoch 3000, Training loss 2.4431, Validation loss 20.3329 \n",
        "# 本章の結果：Epoch 3000, Training loss 3.0125, Validation loss 3.5756\n",
        "# 本演習では、2乗項を含むため、訓練データにはフィットしやすく、訓練データでのlossは小さくなったが、過学習が発生し、検証データでのlossは増加していった"
      ],
      "execution_count": null,
      "outputs": []
    }
  ]
}